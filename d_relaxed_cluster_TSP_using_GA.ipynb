{
 "cells": [
  {
   "cell_type": "code",
   "execution_count": 1,
   "id": "451f394e",
   "metadata": {
    "_cell_guid": "b1076dfc-b9ad-4769-8c92-a6c4dae69d19",
    "_uuid": "8f2839f25d086af736a60e9eeb907d3b93b6e0e5",
    "execution": {
     "iopub.execute_input": "2023-05-13T07:08:04.916107Z",
     "iopub.status.busy": "2023-05-13T07:08:04.915409Z",
     "iopub.status.idle": "2023-05-13T07:08:04.925594Z",
     "shell.execute_reply": "2023-05-13T07:08:04.924678Z"
    },
    "papermill": {
     "duration": 0.018843,
     "end_time": "2023-05-13T07:08:04.927895",
     "exception": false,
     "start_time": "2023-05-13T07:08:04.909052",
     "status": "completed"
    },
    "tags": []
   },
   "outputs": [],
   "source": [
    "import random\n",
    "import numpy as np\n",
    "import matplotlib.pyplot as plt\n",
    "import pandas as pd\n",
    "\n",
    "d_relaxed = 0"
   ]
  },
  {
   "cell_type": "code",
   "execution_count": 2,
   "id": "e0b3cfbf",
   "metadata": {
    "execution": {
     "iopub.execute_input": "2023-05-13T07:08:04.939194Z",
     "iopub.status.busy": "2023-05-13T07:08:04.938553Z",
     "iopub.status.idle": "2023-05-13T07:08:04.959144Z",
     "shell.execute_reply": "2023-05-13T07:08:04.958024Z"
    },
    "papermill": {
     "duration": 0.028759,
     "end_time": "2023-05-13T07:08:04.961663",
     "exception": false,
     "start_time": "2023-05-13T07:08:04.932904",
     "status": "completed"
    },
    "tags": []
   },
   "outputs": [],
   "source": [
    "cities = np.loadtxt(\"/kaggle/input/tsp51cities/berlin52_C_5 (1).txt\")"
   ]
  },
  {
   "cell_type": "code",
   "execution_count": 3,
   "id": "38f08a3d",
   "metadata": {
    "execution": {
     "iopub.execute_input": "2023-05-13T07:08:04.972141Z",
     "iopub.status.busy": "2023-05-13T07:08:04.971557Z",
     "iopub.status.idle": "2023-05-13T07:08:04.981881Z",
     "shell.execute_reply": "2023-05-13T07:08:04.980960Z"
    },
    "papermill": {
     "duration": 0.018284,
     "end_time": "2023-05-13T07:08:04.984238",
     "exception": false,
     "start_time": "2023-05-13T07:08:04.965954",
     "status": "completed"
    },
    "tags": []
   },
   "outputs": [],
   "source": [
    "# draw cities and answer map\n",
    "def drawMap(cities, answer, nCluster=5, title=\"\"):\n",
    "    colors={0:\"blue\", 1:\"orange\", 2:\"green\", 3:\"red\", 4:\"purple\"}\n",
    "    clusters = [[] for i in range(nCluster)]\n",
    "    for city in cities:\n",
    "        clusters[int(city[3])].append(city)\n",
    "\n",
    "    for i in range(len(clusters)):\n",
    "        city = clusters[i][0]\n",
    "        plt.plot(city[1], city[2], color=colors[i], marker='o', label=f\"priority: {i}\")\n",
    "        plt.annotate(int(city[0]), (city[1], city[2]))\n",
    "        plt.legend()\n",
    "        for j in range(1, len(clusters[i])):\n",
    "            city = clusters[i][j]\n",
    "            plt.plot(city[1], city[2], color=colors[i], marker='o')\n",
    "            plt.annotate(int(city[0]), (city[1], city[2]))\n",
    "\n",
    "    for i in range(len(answer)):\n",
    "        try:\n",
    "            first = int(answer[i])\n",
    "            secend = int(answer[i + 1])\n",
    "\n",
    "            plt.plot([cities[first-1][1], cities[secend-1][1]], [cities[first-1][2], cities[secend-1][2]], \"gray\")\n",
    "        except:\n",
    "            continue\n",
    "\n",
    "    first = int(answer[0])\n",
    "    secend = int(answer[-1])\n",
    "    plt.plot([cities[first-1][1], cities[secend-1][1]], [cities[first-1][2], cities[secend-1][2]], \"red\")\n",
    "    plt.title(title)\n",
    "    plt.show()"
   ]
  },
  {
   "cell_type": "code",
   "execution_count": 4,
   "id": "2a1fbc72",
   "metadata": {
    "execution": {
     "iopub.execute_input": "2023-05-13T07:08:04.995368Z",
     "iopub.status.busy": "2023-05-13T07:08:04.994772Z",
     "iopub.status.idle": "2023-05-13T07:08:05.003074Z",
     "shell.execute_reply": "2023-05-13T07:08:05.002336Z"
    },
    "papermill": {
     "duration": 0.01635,
     "end_time": "2023-05-13T07:08:05.005257",
     "exception": false,
     "start_time": "2023-05-13T07:08:04.988907",
     "status": "completed"
    },
    "tags": []
   },
   "outputs": [],
   "source": [
    "dis_mat = []\n",
    "for cityA in cities:\n",
    "    dis_vec = []\n",
    "    for cityB in cities:\n",
    "        dis = ((cityA[1] - cityB[1])**2 + (cityA[2] - cityB[2])**2)**0.5\n",
    "        dis_vec.append(dis)\n",
    "    dis_mat.append(dis_vec)"
   ]
  },
  {
   "cell_type": "code",
   "execution_count": 5,
   "id": "c30fdb7e",
   "metadata": {
    "execution": {
     "iopub.execute_input": "2023-05-13T07:08:05.015720Z",
     "iopub.status.busy": "2023-05-13T07:08:05.015094Z",
     "iopub.status.idle": "2023-05-13T07:08:05.022609Z",
     "shell.execute_reply": "2023-05-13T07:08:05.021821Z"
    },
    "papermill": {
     "duration": 0.015059,
     "end_time": "2023-05-13T07:08:05.024627",
     "exception": false,
     "start_time": "2023-05-13T07:08:05.009568",
     "status": "completed"
    },
    "tags": []
   },
   "outputs": [],
   "source": [
    "# hàm tính tổng khoảng cách\n",
    "def totalDistance(individual):\n",
    "    #cities: là 1 lời giải (cá thể) dưới dạng danh sách các thành phố sẽ đi qua\n",
    "    # ví dụ n = 5: [[*3,15,10],[*1,5,10],[*2,50,34],[*5,1,20],[*4,23,31]]\n",
    "    summ = 0\n",
    "    n = len(individual)\n",
    "    for i in range(n - 1):\n",
    "        cityA = int(individual[i]) - 1\n",
    "        cityB = int(individual[i + 1]) - 1\n",
    "        summ += dis_mat[cityA][cityB]\n",
    "    \n",
    "    # quay lại thành phố đầu tiên\n",
    "    cityA = int(individual[0]) - 1\n",
    "    cityB = int(individual[-1]) - 1\n",
    "    summ += dis_mat[cityA][cityB]\n",
    "    \n",
    "    return summ\n",
    "\n",
    "def nOfBlindingConstrains(individual):\n",
    "    count = 0\n",
    "    n = len(individual)\n",
    "    for i in range(n):\n",
    "        for j in range(i+1, n):\n",
    "            cityA = int(individual[i]) - 1\n",
    "            cityB = int(individual[j]) - 1\n",
    "#             if cityA == 41:\n",
    "#                 print(f'{cityA + 1}: {cities[cityA][3]} to {cityB + 1}: {cities[cityB][3]}')\n",
    "            if cities[cityA][3] - cities[cityB][3] > d_relaxed:\n",
    "                count += 1\n",
    "    return count\n",
    "\n",
    "def fitness(individual):\n",
    "    return (nOfBlindingConstrains(individual)/15 + 1)*totalDistance(individual)"
   ]
  },
  {
   "cell_type": "code",
   "execution_count": 6,
   "id": "e8fec65d",
   "metadata": {
    "execution": {
     "iopub.execute_input": "2023-05-13T07:08:05.035165Z",
     "iopub.status.busy": "2023-05-13T07:08:05.034590Z",
     "iopub.status.idle": "2023-05-13T07:08:05.039718Z",
     "shell.execute_reply": "2023-05-13T07:08:05.038730Z"
    },
    "papermill": {
     "duration": 0.013041,
     "end_time": "2023-05-13T07:08:05.041893",
     "exception": false,
     "start_time": "2023-05-13T07:08:05.028852",
     "status": "completed"
    },
    "tags": []
   },
   "outputs": [],
   "source": [
    "# khởi tạo quần thể ban đầu \n",
    "def initPopulation(cities, size):\n",
    "    population = []\n",
    "\n",
    "    for i in range(size):\n",
    "        invi = list(np.array(cities.copy())[:,0])\n",
    "        random.shuffle(invi)\n",
    "        distance = fitness(invi)\n",
    "        population.append([distance, invi])\n",
    "\n",
    "    return population"
   ]
  },
  {
   "cell_type": "code",
   "execution_count": 7,
   "id": "ae7856ac",
   "metadata": {
    "execution": {
     "iopub.execute_input": "2023-05-13T07:08:05.052514Z",
     "iopub.status.busy": "2023-05-13T07:08:05.052106Z",
     "iopub.status.idle": "2023-05-13T07:08:05.068475Z",
     "shell.execute_reply": "2023-05-13T07:08:05.067654Z"
    },
    "papermill": {
     "duration": 0.024424,
     "end_time": "2023-05-13T07:08:05.070823",
     "exception": false,
     "start_time": "2023-05-13T07:08:05.046399",
     "status": "completed"
    },
    "tags": []
   },
   "outputs": [],
   "source": [
    "# Toán tử lai 1 điểm cắt\n",
    "#   father1: 2,3,5|1,4    father2: 1,3,5|4,2     điểm cắt: 3\n",
    "# new_invi1: 1,3,5,2,4  new_invi2: 2,3,5,1,4\n",
    "def singlePointCrossover(father1, father2, lenCities=51):\n",
    "    point = random.randint(0, lenCities - 1)\n",
    "    \n",
    "    new_invi1 = father2[0:point]\n",
    "    for invi in father1:\n",
    "        if invi not in new_invi1:\n",
    "            new_invi1.append(invi)\n",
    "            \n",
    "    new_invi2 = father1[0:point]\n",
    "    for invi in father2:\n",
    "        if invi not in new_invi2:\n",
    "            new_invi2.append(invi)\n",
    "            \n",
    "    return new_invi1, new_invi2\n",
    "\n",
    "# Toán tử lai 2 điểm cắt\n",
    "#   father1: 6,2|4,3|1,5    father2: 6,1|3,5|4,2     điểm cắt: 2,4\n",
    "# new_invi1: 4,1,3,5,6,2  new_invi2: 5,2,4,3,6,1\n",
    "def multiPointCrossover(father1, father2, lenCities=51):\n",
    "    points = sorted(random.sample(father1, 2))\n",
    "    point1 = int(points[0]) - 1\n",
    "    point2 = int(points[1]) - 1\n",
    "    \n",
    "    new_invi1 = father2[point1:point2]\n",
    "    c1 = 0\n",
    "    c2 = 0\n",
    "    for invi in father1:\n",
    "        if invi not in new_invi1:\n",
    "            c1 += 1\n",
    "            if c1 <= point1:\n",
    "                new_invi1.append(invi)\n",
    "            else:\n",
    "                new_invi1.insert(c2, invi)\n",
    "                c2 += 1\n",
    "            \n",
    "            \n",
    "    new_invi2 = father1[point1:point2]\n",
    "    c1 = 0\n",
    "    c2 = 0\n",
    "    for invi in father2:\n",
    "        if invi not in new_invi2:\n",
    "            c1 += 1\n",
    "            if c1 <= point1:\n",
    "                new_invi2.append(invi)\n",
    "            else:\n",
    "                new_invi2.insert(c2, invi)\n",
    "                c2 += 1\n",
    "                \n",
    "    return new_invi1, new_invi2\n",
    "\n",
    "# Toán tử lai vòng\n",
    "# father1: 12345678\n",
    "# father2: 85213647\n",
    "# start=1 => inv1: 1**4**78 => 15243678\n",
    "# start=2 => inv2: *23*5*** => 82315647\n",
    "def cycleCrossover(father1, father2, lenCities=51):\n",
    "    father1 = [int(s) for s in father1]\n",
    "    father2 = [int(s) for s in father2]\n",
    "    \n",
    "    points = sorted(random.sample([i for i in range(lenCities)], 2))\n",
    "    p1 = int(points[0])\n",
    "    p2 = int(points[1])\n",
    "    \n",
    "    # inv1\n",
    "    inv1 = list(np.zeros(lenCities, dtype=np.int8))\n",
    "    inv1[p1] = father1[p1]\n",
    "    s1 = p1\n",
    "    count = 0\n",
    "    while father2[s1] != father1[p1] and count != lenCities:\n",
    "        count += 1\n",
    "        s1 = father2[s1] - 1\n",
    "        inv1[s1] = father1[s1]\n",
    "    \n",
    "    for city_i in father2:\n",
    "        if city_i not in inv1:\n",
    "            for i in range(lenCities):\n",
    "                if inv1[i] == 0:\n",
    "                    inv1[i] = city_i\n",
    "                    break\n",
    "    \n",
    "    # inv2\n",
    "    inv2 = list(np.zeros(lenCities, dtype=np.int8))\n",
    "    inv2[p2] = father1[p2]\n",
    "    s2 = p2\n",
    "    count = 0\n",
    "    while father2[s2] != father1[p2] and count != lenCities:\n",
    "        count += 1\n",
    "        s2 = father2[s2] - 1\n",
    "        inv2[s2] = father1[s2]\n",
    "    \n",
    "    for city_i in father2:\n",
    "        if city_i not in inv2:\n",
    "            for i in range(lenCities):\n",
    "                if inv2[i] == 0:\n",
    "                    inv2[i] = city_i\n",
    "                    break\n",
    "    \n",
    "#     inv1 = [np.str_(s) for s in inv1]\n",
    "#     inv2 = [np.str_(s) for s in inv2]\n",
    "    \n",
    "    return inv1, inv2"
   ]
  },
  {
   "cell_type": "code",
   "execution_count": 8,
   "id": "94ffd48d",
   "metadata": {
    "execution": {
     "iopub.execute_input": "2023-05-13T07:08:05.081436Z",
     "iopub.status.busy": "2023-05-13T07:08:05.081021Z",
     "iopub.status.idle": "2023-05-13T07:08:05.087564Z",
     "shell.execute_reply": "2023-05-13T07:08:05.086530Z"
    },
    "papermill": {
     "duration": 0.014731,
     "end_time": "2023-05-13T07:08:05.089850",
     "exception": false,
     "start_time": "2023-05-13T07:08:05.075119",
     "status": "completed"
    },
    "tags": []
   },
   "outputs": [],
   "source": [
    "# đột biến: chọn ngẫu nhiên 2 thành phố rồi đổi chỗ cho nhau, thực hiện 2 lần\n",
    "# 2,1,5,3,4 => 4,1,5,3,2 => 1,4,5,3,2\n",
    "def mutation(father, lenCities=51):\n",
    "    new_invi = father.copy()\n",
    "    for _ in range(2):\n",
    "        points = random.sample(new_invi, 2)\n",
    "        temp = new_invi[int(points[0]) - 1]\n",
    "        new_invi[int(points[0]) - 1] = new_invi[int(points[1]) - 1]\n",
    "        new_invi[int(points[1]) - 1] = temp\n",
    "        \n",
    "    return new_invi"
   ]
  },
  {
   "cell_type": "code",
   "execution_count": 9,
   "id": "514c518c",
   "metadata": {
    "execution": {
     "iopub.execute_input": "2023-05-13T07:08:05.100495Z",
     "iopub.status.busy": "2023-05-13T07:08:05.099638Z",
     "iopub.status.idle": "2023-05-13T07:08:05.106289Z",
     "shell.execute_reply": "2023-05-13T07:08:05.105190Z"
    },
    "papermill": {
     "duration": 0.014599,
     "end_time": "2023-05-13T07:08:05.108651",
     "exception": false,
     "start_time": "2023-05-13T07:08:05.094052",
     "status": "completed"
    },
    "tags": []
   },
   "outputs": [],
   "source": [
    "def tournaments(old_population, new_invivduals, population_size = 100):\n",
    "    new_population = []\n",
    "    k1 = 2\n",
    "    k2 = 2\n",
    "    \n",
    "    # giữ lại k1 cá thể tốt nhất của quần thể cũ\n",
    "    tmp1 = sorted(old_population)\n",
    "    for i in range(k1):\n",
    "        new_population.append(tmp1[i])\n",
    "    \n",
    "    # giữ lại k2 cá thể mới được sinh ra\n",
    "    tmp2 = sorted(new_invivduals)\n",
    "    for i in range(k2):\n",
    "        new_population.append(tmp2[i])\n",
    "        \n",
    "    # lấy ngẫu nhiên k3 cá thể trong các cá thể còn lại\n",
    "    tmp3 = tmp1[k1:] + tmp2[k2:]\n",
    "    k3 = population_size - k1 - k2\n",
    "#     weights = []\n",
    "#     for i in range(len(tmp3)):\n",
    "#         weights.append(tmp3[i][0])\n",
    "    new_population = new_population + random.choices(tmp3, k=k3)\n",
    "    \n",
    "    return new_population"
   ]
  },
  {
   "cell_type": "code",
   "execution_count": 10,
   "id": "57ca67ce",
   "metadata": {
    "execution": {
     "iopub.execute_input": "2023-05-13T07:08:05.119468Z",
     "iopub.status.busy": "2023-05-13T07:08:05.119017Z",
     "iopub.status.idle": "2023-05-13T07:08:05.130628Z",
     "shell.execute_reply": "2023-05-13T07:08:05.129344Z"
    },
    "papermill": {
     "duration": 0.020082,
     "end_time": "2023-05-13T07:08:05.133016",
     "exception": false,
     "start_time": "2023-05-13T07:08:05.112934",
     "status": "completed"
    },
    "tags": []
   },
   "outputs": [],
   "source": [
    "def GA(\n",
    "    population,\n",
    "    lenCities = 51,\n",
    "    population_size = 100,\n",
    "    num_of_generations = 10000,\n",
    "    crossover_rate = 0.9,\n",
    "    mutation_rate = 0.1,\n",
    "    crossover_func=singlePointCrossover,\n",
    "    k = 4\n",
    "):\n",
    "    \n",
    "    fit = [] # lưu lại cá thể tốt nhất trong mỗi thế hệ\n",
    "    fit.append(sorted(population)[0][0])\n",
    "    \n",
    "    for _ in range(num_of_generations):\n",
    "        new_inviduals = []\n",
    "        \n",
    "        # sinh population_size cá thể mới\n",
    "        n = int(population_size/2)\n",
    "        for _i in range(n):\n",
    "            \n",
    "            # xảy ra quá trình lai ghép (crossover)\n",
    "            if random.random() <= crossover_rate:\n",
    "                # chọn cá thể tốt nhất trong 'k' cá thể ngẫu nhiên làm father1\n",
    "                father1 = sorted(random.choices(population, k=k))[0][1]\n",
    "                \n",
    "                # chọn cá thể tốt nhất trong 'k' cá thể ngẫu nhiên làm father2\n",
    "                father2 = sorted(random.choices(population, k=k))[0][1]\n",
    "                \n",
    "                # thực hiện lai ghép 2 cá thể này\n",
    "                inv1, inv2 = crossover_func(father1, father2, lenCities)\n",
    "                \n",
    "                # xảy ra quá trình đột biến (mutation)\n",
    "                if random.random() <= mutation_rate:\n",
    "                    inv1 = mutation(inv1, lenCities)\n",
    "                    inv2 = mutation(inv2, lenCities)\n",
    "            \n",
    "            # nếu không có lai ghép xảy ra thì thực hiện lấy ngẫu nhiên 2 cá thể trong quần thể cũ\n",
    "            else:\n",
    "                inv1 = random.choices(population)[0][1]\n",
    "                inv2 = random.choices(population)[0][1]\n",
    "            \n",
    "            new_inviduals.append([fitness(inv1), inv1])\n",
    "            new_inviduals.append([fitness(inv2), inv2])\n",
    "            \n",
    "        population = tournaments(population, new_inviduals, population_size)\n",
    "        \n",
    "        best_invi = sorted(population)[0]\n",
    "        if _ % 100 == 0:\n",
    "            print(f'Loop: {_}, Fitness: {best_invi[0]}, Distance: {totalDistance(best_invi[1])}, Blinding constrains: {nOfBlindingConstrains(best_invi[1])}')\n",
    "        fit.append(sorted(population)[0][0])\n",
    "        \n",
    "    return sorted(population), fit"
   ]
  },
  {
   "cell_type": "code",
   "execution_count": 11,
   "id": "9fbdca5f",
   "metadata": {
    "execution": {
     "iopub.execute_input": "2023-05-13T07:08:05.143446Z",
     "iopub.status.busy": "2023-05-13T07:08:05.143044Z",
     "iopub.status.idle": "2023-05-13T07:29:14.446999Z",
     "shell.execute_reply": "2023-05-13T07:29:14.446072Z"
    },
    "papermill": {
     "duration": 1269.311837,
     "end_time": "2023-05-13T07:29:14.449364",
     "exception": false,
     "start_time": "2023-05-13T07:08:05.137527",
     "status": "completed"
    },
    "tags": []
   },
   "outputs": [
    {
     "name": "stdout",
     "output_type": "stream",
     "text": [
      "Loop: 0, Fitness: 624834.5664233927, Distance: 28061.432623805063, Blinding constrains: 319\n",
      "Loop: 100, Fitness: 103240.07723980115, Distance: 17017.59514941777, Blinding constrains: 76\n",
      "Loop: 200, Fitness: 30511.023197567727, Distance: 14763.39832140374, Blinding constrains: 16\n",
      "Loop: 300, Fitness: 27013.206616220516, Distance: 15584.542278588759, Blinding constrains: 11\n",
      "Loop: 400, Fitness: 16602.2222415454, Distance: 13835.185201287835, Blinding constrains: 3\n",
      "Loop: 500, Fitness: 14784.79370037712, Distance: 12320.661416980935, Blinding constrains: 3\n",
      "Loop: 600, Fitness: 13989.565938460939, Distance: 11657.971615384116, Blinding constrains: 3\n",
      "Loop: 700, Fitness: 13908.413286593777, Distance: 11590.344405494814, Blinding constrains: 3\n",
      "Loop: 800, Fitness: 13587.579857661965, Distance: 11322.983214718304, Blinding constrains: 3\n",
      "Loop: 900, Fitness: 13394.717404194515, Distance: 11162.26450349543, Blinding constrains: 3\n",
      "Loop: 1000, Fitness: 11952.853086321786, Distance: 11952.853086321786, Blinding constrains: 0\n",
      "Loop: 1100, Fitness: 11819.719631472288, Distance: 11819.719631472288, Blinding constrains: 0\n",
      "Loop: 1200, Fitness: 11819.719631472288, Distance: 11819.719631472288, Blinding constrains: 0\n",
      "Loop: 1300, Fitness: 11432.496059565223, Distance: 11432.496059565223, Blinding constrains: 0\n",
      "Loop: 1400, Fitness: 11078.975182948776, Distance: 11078.975182948776, Blinding constrains: 0\n",
      "Loop: 1500, Fitness: 10768.385799409076, Distance: 10768.385799409076, Blinding constrains: 0\n",
      "Loop: 1600, Fitness: 10554.520548323031, Distance: 10554.520548323031, Blinding constrains: 0\n",
      "Loop: 1700, Fitness: 10554.520548323031, Distance: 10554.520548323031, Blinding constrains: 0\n",
      "Loop: 1800, Fitness: 10554.520548323031, Distance: 10554.520548323031, Blinding constrains: 0\n",
      "Loop: 1900, Fitness: 10363.15165045656, Distance: 10363.15165045656, Blinding constrains: 0\n",
      "Loop: 2000, Fitness: 10341.690138311938, Distance: 10341.690138311938, Blinding constrains: 0\n",
      "Loop: 2100, Fitness: 10248.686503125922, Distance: 10248.686503125922, Blinding constrains: 0\n",
      "Loop: 2200, Fitness: 10248.686503125922, Distance: 10248.686503125922, Blinding constrains: 0\n",
      "Loop: 2300, Fitness: 10233.444373811668, Distance: 10233.444373811668, Blinding constrains: 0\n",
      "Loop: 2400, Fitness: 10233.444373811668, Distance: 10233.444373811668, Blinding constrains: 0\n",
      "Loop: 2500, Fitness: 10233.444373811668, Distance: 10233.444373811668, Blinding constrains: 0\n",
      "Loop: 2600, Fitness: 10233.444373811668, Distance: 10233.444373811668, Blinding constrains: 0\n",
      "Loop: 2700, Fitness: 10233.444373811668, Distance: 10233.444373811668, Blinding constrains: 0\n",
      "Loop: 2800, Fitness: 10233.444373811668, Distance: 10233.444373811668, Blinding constrains: 0\n",
      "Loop: 2900, Fitness: 10233.444373811668, Distance: 10233.444373811668, Blinding constrains: 0\n",
      "Loop: 3000, Fitness: 10233.444373811668, Distance: 10233.444373811668, Blinding constrains: 0\n",
      "Loop: 3100, Fitness: 10233.444373811668, Distance: 10233.444373811668, Blinding constrains: 0\n",
      "Loop: 3200, Fitness: 10233.444373811668, Distance: 10233.444373811668, Blinding constrains: 0\n",
      "Loop: 3300, Fitness: 10233.444373811668, Distance: 10233.444373811668, Blinding constrains: 0\n",
      "Loop: 3400, Fitness: 10233.444373811668, Distance: 10233.444373811668, Blinding constrains: 0\n",
      "Loop: 3500, Fitness: 10233.444373811668, Distance: 10233.444373811668, Blinding constrains: 0\n",
      "Loop: 3600, Fitness: 10233.444373811668, Distance: 10233.444373811668, Blinding constrains: 0\n",
      "Loop: 3700, Fitness: 10233.444373811668, Distance: 10233.444373811668, Blinding constrains: 0\n",
      "Loop: 3800, Fitness: 10233.444373811668, Distance: 10233.444373811668, Blinding constrains: 0\n",
      "Loop: 3900, Fitness: 10233.444373811668, Distance: 10233.444373811668, Blinding constrains: 0\n",
      "Loop: 4000, Fitness: 10233.444373811668, Distance: 10233.444373811668, Blinding constrains: 0\n",
      "Loop: 4100, Fitness: 10233.444373811668, Distance: 10233.444373811668, Blinding constrains: 0\n",
      "Loop: 4200, Fitness: 10233.444373811668, Distance: 10233.444373811668, Blinding constrains: 0\n",
      "Loop: 4300, Fitness: 10233.444373811668, Distance: 10233.444373811668, Blinding constrains: 0\n",
      "Loop: 4400, Fitness: 10233.444373811668, Distance: 10233.444373811668, Blinding constrains: 0\n",
      "Loop: 4500, Fitness: 10233.444373811668, Distance: 10233.444373811668, Blinding constrains: 0\n",
      "Loop: 4600, Fitness: 10233.444373811668, Distance: 10233.444373811668, Blinding constrains: 0\n",
      "Loop: 4700, Fitness: 10233.444373811668, Distance: 10233.444373811668, Blinding constrains: 0\n",
      "Loop: 4800, Fitness: 10233.444373811668, Distance: 10233.444373811668, Blinding constrains: 0\n",
      "Loop: 4900, Fitness: 10233.444373811668, Distance: 10233.444373811668, Blinding constrains: 0\n",
      "Loop: 5000, Fitness: 10233.444373811668, Distance: 10233.444373811668, Blinding constrains: 0\n",
      "Loop: 5100, Fitness: 10233.444373811668, Distance: 10233.444373811668, Blinding constrains: 0\n",
      "Loop: 5200, Fitness: 10233.444373811668, Distance: 10233.444373811668, Blinding constrains: 0\n",
      "Loop: 5300, Fitness: 10233.444373811668, Distance: 10233.444373811668, Blinding constrains: 0\n",
      "Loop: 5400, Fitness: 10233.444373811668, Distance: 10233.444373811668, Blinding constrains: 0\n",
      "Loop: 5500, Fitness: 10233.444373811668, Distance: 10233.444373811668, Blinding constrains: 0\n",
      "Loop: 5600, Fitness: 10233.444373811668, Distance: 10233.444373811668, Blinding constrains: 0\n",
      "Loop: 5700, Fitness: 10233.444373811668, Distance: 10233.444373811668, Blinding constrains: 0\n",
      "Loop: 5800, Fitness: 10233.444373811668, Distance: 10233.444373811668, Blinding constrains: 0\n",
      "Loop: 5900, Fitness: 10233.444373811668, Distance: 10233.444373811668, Blinding constrains: 0\n",
      "Loop: 6000, Fitness: 10233.444373811668, Distance: 10233.444373811668, Blinding constrains: 0\n",
      "Loop: 6100, Fitness: 10233.444373811668, Distance: 10233.444373811668, Blinding constrains: 0\n",
      "Loop: 6200, Fitness: 10233.444373811668, Distance: 10233.444373811668, Blinding constrains: 0\n",
      "Loop: 6300, Fitness: 10219.359414546763, Distance: 10219.359414546763, Blinding constrains: 0\n",
      "Loop: 6400, Fitness: 10219.359414546763, Distance: 10219.359414546763, Blinding constrains: 0\n",
      "Loop: 6500, Fitness: 10219.359414546763, Distance: 10219.359414546763, Blinding constrains: 0\n",
      "Loop: 6600, Fitness: 10219.359414546763, Distance: 10219.359414546763, Blinding constrains: 0\n",
      "Loop: 6700, Fitness: 10219.359414546763, Distance: 10219.359414546763, Blinding constrains: 0\n",
      "Loop: 6800, Fitness: 10219.359414546763, Distance: 10219.359414546763, Blinding constrains: 0\n",
      "Loop: 6900, Fitness: 10219.359414546763, Distance: 10219.359414546763, Blinding constrains: 0\n",
      "Loop: 7000, Fitness: 10219.359414546763, Distance: 10219.359414546763, Blinding constrains: 0\n",
      "Loop: 7100, Fitness: 10219.359414546763, Distance: 10219.359414546763, Blinding constrains: 0\n",
      "Loop: 7200, Fitness: 10219.359414546763, Distance: 10219.359414546763, Blinding constrains: 0\n",
      "Loop: 7300, Fitness: 10219.359414546763, Distance: 10219.359414546763, Blinding constrains: 0\n",
      "Loop: 7400, Fitness: 10219.359414546763, Distance: 10219.359414546763, Blinding constrains: 0\n",
      "Loop: 7500, Fitness: 10219.359414546763, Distance: 10219.359414546763, Blinding constrains: 0\n",
      "Loop: 7600, Fitness: 10219.359414546763, Distance: 10219.359414546763, Blinding constrains: 0\n",
      "Loop: 7700, Fitness: 10219.359414546763, Distance: 10219.359414546763, Blinding constrains: 0\n",
      "Loop: 7800, Fitness: 10219.359414546763, Distance: 10219.359414546763, Blinding constrains: 0\n",
      "Loop: 7900, Fitness: 10219.359414546763, Distance: 10219.359414546763, Blinding constrains: 0\n",
      "Loop: 8000, Fitness: 10219.359414546763, Distance: 10219.359414546763, Blinding constrains: 0\n",
      "Loop: 8100, Fitness: 10219.359414546763, Distance: 10219.359414546763, Blinding constrains: 0\n",
      "Loop: 8200, Fitness: 10219.359414546763, Distance: 10219.359414546763, Blinding constrains: 0\n",
      "Loop: 8300, Fitness: 10219.359414546763, Distance: 10219.359414546763, Blinding constrains: 0\n",
      "Loop: 8400, Fitness: 10219.359414546763, Distance: 10219.359414546763, Blinding constrains: 0\n",
      "Loop: 8500, Fitness: 10219.359414546763, Distance: 10219.359414546763, Blinding constrains: 0\n",
      "Loop: 8600, Fitness: 10219.359414546763, Distance: 10219.359414546763, Blinding constrains: 0\n",
      "Loop: 8700, Fitness: 10219.359414546763, Distance: 10219.359414546763, Blinding constrains: 0\n",
      "Loop: 8800, Fitness: 10219.359414546763, Distance: 10219.359414546763, Blinding constrains: 0\n",
      "Loop: 8900, Fitness: 10219.359414546763, Distance: 10219.359414546763, Blinding constrains: 0\n",
      "Loop: 9000, Fitness: 10219.359414546763, Distance: 10219.359414546763, Blinding constrains: 0\n",
      "Loop: 9100, Fitness: 10219.359414546763, Distance: 10219.359414546763, Blinding constrains: 0\n",
      "Loop: 9200, Fitness: 10219.359414546763, Distance: 10219.359414546763, Blinding constrains: 0\n",
      "Loop: 9300, Fitness: 10219.359414546763, Distance: 10219.359414546763, Blinding constrains: 0\n",
      "Loop: 9400, Fitness: 10219.359414546763, Distance: 10219.359414546763, Blinding constrains: 0\n",
      "Loop: 9500, Fitness: 10219.359414546763, Distance: 10219.359414546763, Blinding constrains: 0\n",
      "Loop: 9600, Fitness: 10219.359414546763, Distance: 10219.359414546763, Blinding constrains: 0\n",
      "Loop: 9700, Fitness: 10219.359414546763, Distance: 10219.359414546763, Blinding constrains: 0\n",
      "Loop: 9800, Fitness: 10219.359414546763, Distance: 10219.359414546763, Blinding constrains: 0\n",
      "Loop: 9900, Fitness: 10219.359414546763, Distance: 10219.359414546763, Blinding constrains: 0\n"
     ]
    }
   ],
   "source": [
    "population = initPopulation(cities, size=100) # Khởi tạo quần thể đầu tiên\n",
    "pop, fit = GA(population=population, crossover_func=singlePointCrossover, lenCities=len(cities))"
   ]
  },
  {
   "cell_type": "code",
   "execution_count": 12,
   "id": "0a3d0b5c",
   "metadata": {
    "execution": {
     "iopub.execute_input": "2023-05-13T07:29:14.471472Z",
     "iopub.status.busy": "2023-05-13T07:29:14.471071Z",
     "iopub.status.idle": "2023-05-13T07:29:15.197452Z",
     "shell.execute_reply": "2023-05-13T07:29:15.196410Z"
    },
    "papermill": {
     "duration": 0.740172,
     "end_time": "2023-05-13T07:29:15.199653",
     "exception": false,
     "start_time": "2023-05-13T07:29:14.459481",
     "status": "completed"
    },
    "tags": []
   },
   "outputs": [
    {
     "data": {
      "image/png": "[encoded data removed]",
      "text/plain": [
       "<Figure size 640x480 with 1 Axes>"
      ]
     },
     "metadata": {},
     "output_type": "display_data"
    }
   ],
   "source": [
    "drawMap(cities, pop[0][1])"
   ]
  },
  {
   "cell_type": "code",
   "execution_count": 13,
   "id": "56535e88",
   "metadata": {
    "execution": {
     "iopub.execute_input": "2023-05-13T07:29:15.224506Z",
     "iopub.status.busy": "2023-05-13T07:29:15.223665Z",
     "iopub.status.idle": "2023-05-13T07:29:15.440466Z",
     "shell.execute_reply": "2023-05-13T07:29:15.439366Z"
    },
    "papermill": {
     "duration": 0.231964,
     "end_time": "2023-05-13T07:29:15.443003",
     "exception": false,
     "start_time": "2023-05-13T07:29:15.211039",
     "status": "completed"
    },
    "tags": []
   },
   "outputs": [
    {
     "data": {
      "text/plain": [
       "[<matplotlib.lines.Line2D at 0x79d1ec259990>]"
      ]
     },
     "execution_count": 13,
     "metadata": {},
     "output_type": "execute_result"
    },
    {
     "data": {
      "image/png": "[encoded data removed]",
      "text/plain": [
       "<Figure size 640x480 with 1 Axes>"
      ]
     },
     "metadata": {},
     "output_type": "display_data"
    }
   ],
   "source": [
    "data=fit[700:]\n",
    "x=[i for i in range(len(data))]\n",
    "plt.plot(x, data, label=\"One Point\")"
   ]
  },
  {
   "cell_type": "code",
   "execution_count": 14,
   "id": "ddaec872",
   "metadata": {
    "execution": {
     "iopub.execute_input": "2023-05-13T07:29:15.468309Z",
     "iopub.status.busy": "2023-05-13T07:29:15.467890Z",
     "iopub.status.idle": "2023-05-13T07:29:15.474211Z",
     "shell.execute_reply": "2023-05-13T07:29:15.472977Z"
    },
    "papermill": {
     "duration": 0.021563,
     "end_time": "2023-05-13T07:29:15.476390",
     "exception": false,
     "start_time": "2023-05-13T07:29:15.454827",
     "status": "completed"
    },
    "tags": []
   },
   "outputs": [
    {
     "name": "stdout",
     "output_type": "stream",
     "text": [
      "[49.0, 35.0, 34.0, 37.0, 48.0, 24.0, 6.0, 15.0, 5.0, 38.0, 40.0, 39.0, 36.0, 44.0, 16.0, 46.0, 25.0, 4.0, 11.0, 52.0, 14.0, 13.0, 47.0, 26.0, 27.0, 28.0, 51.0, 12.0, 42.0, 2.0, 7.0, 9.0, 10.0, 33.0, 43.0, 8.0, 41.0, 19.0, 45.0, 3.0, 17.0, 18.0, 31.0, 21.0, 30.0, 29.0, 20.0, 50.0, 23.0, 22.0, 1.0, 32.0]\n"
     ]
    }
   ],
   "source": [
    "print(pop[0][1])"
   ]
  }
 ],
 "metadata": {
  "kernelspec": {
   "display_name": "Python 3",
   "language": "python",
   "name": "python3"
  },
  "language_info": {
   "codemirror_mode": {
    "name": "ipython",
    "version": 3
   },
   "file_extension": ".py",
   "mimetype": "text/x-python",
   "name": "python",
   "nbconvert_exporter": "python",
   "pygments_lexer": "ipython3",
   "version": "3.10.10"
  },
  "papermill": {
   "default_parameters": {},
   "duration": 1281.714341,
   "end_time": "2023-05-13T07:29:16.312016",
   "environment_variables": {},
   "exception": null,
   "input_path": "__notebook__.ipynb",
   "output_path": "__notebook__.ipynb",
   "parameters": {},
   "start_time": "2023-05-13T07:07:54.597675",
   "version": "2.4.0"
  }
 },
 "nbformat": 4,
 "nbformat_minor": 5
}
