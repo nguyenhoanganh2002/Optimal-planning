{
 "cells": [
  {
   "cell_type": "code",
   "execution_count": 1,
   "id": "b1676342",
   "metadata": {
    "_cell_guid": "b1076dfc-b9ad-4769-8c92-a6c4dae69d19",
    "_uuid": "8f2839f25d086af736a60e9eeb907d3b93b6e0e5",
    "execution": {
     "iopub.execute_input": "2023-05-11T04:36:08.766737Z",
     "iopub.status.busy": "2023-05-11T04:36:08.766225Z",
     "iopub.status.idle": "2023-05-11T04:36:08.779046Z",
     "shell.execute_reply": "2023-05-11T04:36:08.778054Z"
    },
    "papermill": {
     "duration": 0.021506,
     "end_time": "2023-05-11T04:36:08.781495",
     "exception": false,
     "start_time": "2023-05-11T04:36:08.759989",
     "status": "completed"
    },
    "tags": []
   },
   "outputs": [],
   "source": [
    "import random\n",
    "import numpy as np\n",
    "import matplotlib.pyplot as plt\n",
    "import pandas as pd\n",
    "\n",
    "d_relaxed = 2"
   ]
  },
  {
   "cell_type": "code",
   "execution_count": 2,
   "id": "f77c76d0",
   "metadata": {
    "execution": {
     "iopub.execute_input": "2023-05-11T04:36:08.792312Z",
     "iopub.status.busy": "2023-05-11T04:36:08.791907Z",
     "iopub.status.idle": "2023-05-11T04:36:08.804615Z",
     "shell.execute_reply": "2023-05-11T04:36:08.803567Z"
    },
    "papermill": {
     "duration": 0.021819,
     "end_time": "2023-05-11T04:36:08.807678",
     "exception": false,
     "start_time": "2023-05-11T04:36:08.785859",
     "status": "completed"
    },
    "tags": []
   },
   "outputs": [],
   "source": [
    "cities = np.loadtxt(\"/kaggle/input/tsp51cities/berlin52_C_5 (1).txt\")"
   ]
  },
  {
   "cell_type": "code",
   "execution_count": 3,
   "id": "9d1d0ed4",
   "metadata": {
    "execution": {
     "iopub.execute_input": "2023-05-11T04:36:08.817454Z",
     "iopub.status.busy": "2023-05-11T04:36:08.817072Z",
     "iopub.status.idle": "2023-05-11T04:36:08.828601Z",
     "shell.execute_reply": "2023-05-11T04:36:08.827430Z"
    },
    "papermill": {
     "duration": 0.019075,
     "end_time": "2023-05-11T04:36:08.831022",
     "exception": false,
     "start_time": "2023-05-11T04:36:08.811947",
     "status": "completed"
    },
    "tags": []
   },
   "outputs": [],
   "source": [
    "# draw cities and answer map\n",
    "def drawMap(cities, answer, nCluster=5, title=\"\"):\n",
    "    colors={0:\"blue\", 1:\"orange\", 2:\"green\", 3:\"red\", 4:\"purple\"}\n",
    "    clusters = [[] for i in range(nCluster)]\n",
    "    for city in cities:\n",
    "        clusters[int(city[3])].append(city)\n",
    "\n",
    "    for i in range(len(clusters)):\n",
    "        city = clusters[i][0]\n",
    "        plt.plot(city[1], city[2], color=colors[i], marker='o', label=f\"priority: {i}\")\n",
    "        plt.annotate(int(city[0]), (city[1], city[2]))\n",
    "        plt.legend()\n",
    "        for j in range(1, len(clusters[i])):\n",
    "            city = clusters[i][j]\n",
    "            plt.plot(city[1], city[2], color=colors[i], marker='o')\n",
    "            plt.annotate(int(city[0]), (city[1], city[2]))\n",
    "\n",
    "    for i in range(len(answer)):\n",
    "        try:\n",
    "            first = int(answer[i])\n",
    "            secend = int(answer[i + 1])\n",
    "\n",
    "            plt.plot([cities[first-1][1], cities[secend-1][1]], [cities[first-1][2], cities[secend-1][2]], \"gray\")\n",
    "        except:\n",
    "            continue\n",
    "\n",
    "    first = int(answer[0])\n",
    "    secend = int(answer[-1])\n",
    "    plt.plot([cities[first-1][1], cities[secend-1][1]], [cities[first-1][2], cities[secend-1][2]], \"red\")\n",
    "    plt.title(title)\n",
    "    plt.show()"
   ]
  },
  {
   "cell_type": "code",
   "execution_count": 4,
   "id": "407b180b",
   "metadata": {
    "execution": {
     "iopub.execute_input": "2023-05-11T04:36:08.842185Z",
     "iopub.status.busy": "2023-05-11T04:36:08.840041Z",
     "iopub.status.idle": "2023-05-11T04:36:08.851206Z",
     "shell.execute_reply": "2023-05-11T04:36:08.850210Z"
    },
    "papermill": {
     "duration": 0.01864,
     "end_time": "2023-05-11T04:36:08.853584",
     "exception": false,
     "start_time": "2023-05-11T04:36:08.834944",
     "status": "completed"
    },
    "tags": []
   },
   "outputs": [],
   "source": [
    "dis_mat = []\n",
    "for cityA in cities:\n",
    "    dis_vec = []\n",
    "    for cityB in cities:\n",
    "        dis = ((cityA[1] - cityB[1])**2 + (cityA[2] - cityB[2])**2)**0.5\n",
    "        dis_vec.append(dis)\n",
    "    dis_mat.append(dis_vec)"
   ]
  },
  {
   "cell_type": "code",
   "execution_count": 5,
   "id": "e6720b23",
   "metadata": {
    "execution": {
     "iopub.execute_input": "2023-05-11T04:36:08.864009Z",
     "iopub.status.busy": "2023-05-11T04:36:08.863078Z",
     "iopub.status.idle": "2023-05-11T04:36:08.872024Z",
     "shell.execute_reply": "2023-05-11T04:36:08.871043Z"
    },
    "papermill": {
     "duration": 0.0167,
     "end_time": "2023-05-11T04:36:08.874496",
     "exception": false,
     "start_time": "2023-05-11T04:36:08.857796",
     "status": "completed"
    },
    "tags": []
   },
   "outputs": [],
   "source": [
    "# hàm tính tổng khoảng cách\n",
    "def totalDistance(individual):\n",
    "    #cities: là 1 lời giải (cá thể) dưới dạng danh sách các thành phố sẽ đi qua\n",
    "    # ví dụ n = 5: [[*3,15,10],[*1,5,10],[*2,50,34],[*5,1,20],[*4,23,31]]\n",
    "    summ = 0\n",
    "    n = len(individual)\n",
    "    for i in range(n - 1):\n",
    "        cityA = int(individual[i]) - 1\n",
    "        cityB = int(individual[i + 1]) - 1\n",
    "        summ += dis_mat[cityA][cityB]\n",
    "    \n",
    "    # quay lại thành phố đầu tiên\n",
    "    cityA = int(individual[0]) - 1\n",
    "    cityB = int(individual[-1]) - 1\n",
    "    summ += dis_mat[cityA][cityB]\n",
    "    \n",
    "    return summ\n",
    "\n",
    "def nOfBlindingConstrains(individual):\n",
    "    count = 0\n",
    "    n = len(individual)\n",
    "    for i in range(n):\n",
    "        for j in range(i+1, n):\n",
    "            cityA = int(individual[i]) - 1\n",
    "            cityB = int(individual[j]) - 1\n",
    "            if cities[cityA][3] - cities[cityB][3] > d_relaxed:\n",
    "                count += 1\n",
    "    return count\n",
    "\n",
    "def fitness(individual):\n",
    "    return (nOfBlindingConstrains(individual) + 1)*totalDistance(individual)"
   ]
  },
  {
   "cell_type": "code",
   "execution_count": 6,
   "id": "ba8ebfe2",
   "metadata": {
    "execution": {
     "iopub.execute_input": "2023-05-11T04:36:08.884908Z",
     "iopub.status.busy": "2023-05-11T04:36:08.884283Z",
     "iopub.status.idle": "2023-05-11T04:36:08.890256Z",
     "shell.execute_reply": "2023-05-11T04:36:08.889392Z"
    },
    "papermill": {
     "duration": 0.014639,
     "end_time": "2023-05-11T04:36:08.892999",
     "exception": false,
     "start_time": "2023-05-11T04:36:08.878360",
     "status": "completed"
    },
    "tags": []
   },
   "outputs": [],
   "source": [
    "# khởi tạo quần thể ban đầu \n",
    "def initPopulation(cities, size):\n",
    "    population = []\n",
    "\n",
    "    for i in range(size):\n",
    "        invi = list(np.array(cities.copy())[:,0])\n",
    "        random.shuffle(invi)\n",
    "        distance = fitness(invi)\n",
    "        population.append([distance, invi])\n",
    "\n",
    "    return population"
   ]
  },
  {
   "cell_type": "code",
   "execution_count": 7,
   "id": "8644cbb4",
   "metadata": {
    "execution": {
     "iopub.execute_input": "2023-05-11T04:36:08.906225Z",
     "iopub.status.busy": "2023-05-11T04:36:08.905554Z",
     "iopub.status.idle": "2023-05-11T04:36:08.923633Z",
     "shell.execute_reply": "2023-05-11T04:36:08.922381Z"
    },
    "papermill": {
     "duration": 0.028294,
     "end_time": "2023-05-11T04:36:08.926837",
     "exception": false,
     "start_time": "2023-05-11T04:36:08.898543",
     "status": "completed"
    },
    "tags": []
   },
   "outputs": [],
   "source": [
    "# Toán tử lai 1 điểm cắt\n",
    "#   father1: 2,3,5|1,4    father2: 1,3,5|4,2     điểm cắt: 3\n",
    "# new_invi1: 1,3,5,2,4  new_invi2: 2,3,5,1,4\n",
    "def singlePointCrossover(father1, father2, lenCities=51):\n",
    "    point = random.randint(0, lenCities - 1)\n",
    "    \n",
    "    new_invi1 = father2[0:point]\n",
    "    for invi in father1:\n",
    "        if invi not in new_invi1:\n",
    "            new_invi1.append(invi)\n",
    "            \n",
    "    new_invi2 = father1[0:point]\n",
    "    for invi in father2:\n",
    "        if invi not in new_invi2:\n",
    "            new_invi2.append(invi)\n",
    "            \n",
    "    return new_invi1, new_invi2\n",
    "\n",
    "# Toán tử lai 2 điểm cắt\n",
    "#   father1: 6,2|4,3|1,5    father2: 6,1|3,5|4,2     điểm cắt: 2,4\n",
    "# new_invi1: 4,1,3,5,6,2  new_invi2: 5,2,4,3,6,1\n",
    "def multiPointCrossover(father1, father2, lenCities=51):\n",
    "    points = sorted(random.sample(father1, 2))\n",
    "    point1 = int(points[0]) - 1\n",
    "    point2 = int(points[1]) - 1\n",
    "    \n",
    "    new_invi1 = father2[point1:point2]\n",
    "    c1 = 0\n",
    "    c2 = 0\n",
    "    for invi in father1:\n",
    "        if invi not in new_invi1:\n",
    "            c1 += 1\n",
    "            if c1 <= point1:\n",
    "                new_invi1.append(invi)\n",
    "            else:\n",
    "                new_invi1.insert(c2, invi)\n",
    "                c2 += 1\n",
    "            \n",
    "            \n",
    "    new_invi2 = father1[point1:point2]\n",
    "    c1 = 0\n",
    "    c2 = 0\n",
    "    for invi in father2:\n",
    "        if invi not in new_invi2:\n",
    "            c1 += 1\n",
    "            if c1 <= point1:\n",
    "                new_invi2.append(invi)\n",
    "            else:\n",
    "                new_invi2.insert(c2, invi)\n",
    "                c2 += 1\n",
    "                \n",
    "    return new_invi1, new_invi2\n",
    "\n",
    "# Toán tử lai vòng\n",
    "# father1: 12345678\n",
    "# father2: 85213647\n",
    "# start=1 => inv1: 1**4**78 => 15243678\n",
    "# start=2 => inv2: *23*5*** => 82315647\n",
    "def cycleCrossover(father1, father2, lenCities=51):\n",
    "    father1 = [int(s) for s in father1]\n",
    "    father2 = [int(s) for s in father2]\n",
    "    \n",
    "    points = sorted(random.sample([i for i in range(lenCities)], 2))\n",
    "    p1 = 0#p1 = int(points[0])\n",
    "    p2 = 1#int(points[1])\n",
    "    \n",
    "    # inv1\n",
    "    inv1 = list(np.zeros(lenCities, dtype=np.int8))\n",
    "    inv1[p1] = father1[p1]\n",
    "    s1 = p1\n",
    "    count = 0\n",
    "    while father2[s1] != father1[p1] and count != lenCities:\n",
    "        count += 1\n",
    "        s1 = father2[s1] - 1\n",
    "        inv1[s1] = father1[s1]\n",
    "    \n",
    "    for city_i in father2:\n",
    "        if city_i not in inv1:\n",
    "            for i in range(lenCities):\n",
    "                if inv1[i] == 0:\n",
    "                    inv1[i] = city_i\n",
    "                    break\n",
    "    \n",
    "    # inv2\n",
    "    inv2 = list(np.zeros(lenCities, dtype=np.int8))\n",
    "    inv2[p2] = father1[p2]\n",
    "    s2 = p2\n",
    "    count = 0\n",
    "    while father2[s2] != father1[p2] and count != lenCities:\n",
    "        count += 1\n",
    "        s2 = father2[s2] - 1\n",
    "        inv2[s2] = father1[s2]\n",
    "    \n",
    "    for city_i in father2:\n",
    "        if city_i not in inv2:\n",
    "            for i in range(lenCities):\n",
    "                if inv2[i] == 0:\n",
    "                    inv2[i] = city_i\n",
    "                    break\n",
    "    \n",
    "    inv1 = [np.str_(s) for s in inv1]\n",
    "    inv2 = [np.str_(s) for s in inv2]\n",
    "    \n",
    "    return inv1, inv2"
   ]
  },
  {
   "cell_type": "code",
   "execution_count": 8,
   "id": "c531241c",
   "metadata": {
    "execution": {
     "iopub.execute_input": "2023-05-11T04:36:08.939695Z",
     "iopub.status.busy": "2023-05-11T04:36:08.939292Z",
     "iopub.status.idle": "2023-05-11T04:36:08.945558Z",
     "shell.execute_reply": "2023-05-11T04:36:08.944323Z"
    },
    "papermill": {
     "duration": 0.015572,
     "end_time": "2023-05-11T04:36:08.948100",
     "exception": false,
     "start_time": "2023-05-11T04:36:08.932528",
     "status": "completed"
    },
    "tags": []
   },
   "outputs": [],
   "source": [
    "# đột biến: chọn ngẫu nhiên 2 thành phố rồi đổi chỗ cho nhau, thực hiện 2 lần\n",
    "# 2,1,5,3,4 => 4,1,5,3,2 => 1,4,5,3,2\n",
    "def mutation(father, lenCities=51):\n",
    "    new_invi = father.copy()\n",
    "    for _ in range(2):\n",
    "        points = random.sample(new_invi, 2)\n",
    "        temp = new_invi[int(points[0]) - 1]\n",
    "        new_invi[int(points[0]) - 1] = new_invi[int(points[1]) - 1]\n",
    "        new_invi[int(points[1]) - 1] = temp\n",
    "        \n",
    "    return new_invi"
   ]
  },
  {
   "cell_type": "code",
   "execution_count": 9,
   "id": "4f65be49",
   "metadata": {
    "execution": {
     "iopub.execute_input": "2023-05-11T04:36:08.962001Z",
     "iopub.status.busy": "2023-05-11T04:36:08.961312Z",
     "iopub.status.idle": "2023-05-11T04:36:08.968146Z",
     "shell.execute_reply": "2023-05-11T04:36:08.967251Z"
    },
    "papermill": {
     "duration": 0.016927,
     "end_time": "2023-05-11T04:36:08.970914",
     "exception": false,
     "start_time": "2023-05-11T04:36:08.953987",
     "status": "completed"
    },
    "tags": []
   },
   "outputs": [],
   "source": [
    "def tournaments(old_population, new_invivduals, population_size = 100):\n",
    "    new_population = []\n",
    "    k1 = 2\n",
    "    k2 = 2\n",
    "    \n",
    "    # giữ lại k1 cá thể tốt nhất của quần thể cũ\n",
    "    tmp1 = sorted(old_population)\n",
    "    for i in range(k1):\n",
    "        new_population.append(tmp1[i])\n",
    "    \n",
    "    # giữ lại k2 cá thể mới được sinh ra\n",
    "    tmp2 = sorted(new_invivduals)\n",
    "    for i in range(k2):\n",
    "        new_population.append(tmp2[i])\n",
    "        \n",
    "    # lấy ngẫu nhiên k3 cá thể trong các cá thể còn lại\n",
    "    tmp3 = tmp1[k1:] + tmp2[k2:]\n",
    "    k3 = population_size - k1 - k2\n",
    "    weights = []\n",
    "    for i in range(len(tmp3)):\n",
    "        weights.append(tmp3[i][0])\n",
    "    new_population = new_population + random.choices(tmp3, weights=weights, k=k3)\n",
    "    \n",
    "    return new_population"
   ]
  },
  {
   "cell_type": "code",
   "execution_count": 10,
   "id": "44757cd0",
   "metadata": {
    "execution": {
     "iopub.execute_input": "2023-05-11T04:36:08.984184Z",
     "iopub.status.busy": "2023-05-11T04:36:08.983529Z",
     "iopub.status.idle": "2023-05-11T04:36:08.994270Z",
     "shell.execute_reply": "2023-05-11T04:36:08.993139Z"
    },
    "papermill": {
     "duration": 0.020636,
     "end_time": "2023-05-11T04:36:08.997125",
     "exception": false,
     "start_time": "2023-05-11T04:36:08.976489",
     "status": "completed"
    },
    "tags": []
   },
   "outputs": [],
   "source": [
    "def GA(\n",
    "    population,\n",
    "    lenCities = 51,\n",
    "    population_size = 100,\n",
    "    num_of_generations = 5000,\n",
    "    crossover_rate = 0.9,\n",
    "    mutation_rate = 0.1,\n",
    "    crossover_func=singlePointCrossover,\n",
    "    k = 4\n",
    "):\n",
    "    \n",
    "    fit = [] # lưu lại cá thể tốt nhất trong mỗi thế hệ\n",
    "    fit.append(sorted(population)[0][0])\n",
    "    \n",
    "    for _ in range(num_of_generations):\n",
    "        new_inviduals = []\n",
    "        \n",
    "        # sinh population_size cá thể mới\n",
    "        n = int(population_size/2)\n",
    "        for _i in range(n):\n",
    "            \n",
    "            # xảy ra quá trình lai ghép (crossover)\n",
    "            if random.random() <= crossover_rate:\n",
    "                # chọn cá thể tốt nhất trong 'k' cá thể ngẫu nhiên làm father1\n",
    "                father1 = sorted(random.choices(population, k=k))[0][1]\n",
    "                \n",
    "                # chọn cá thể tốt nhất trong 'k' cá thể ngẫu nhiên làm father2\n",
    "                father2 = sorted(random.choices(population, k=k))[0][1]\n",
    "                \n",
    "                # thực hiện lai ghép 2 cá thể này\n",
    "                inv1, inv2 = crossover_func(father1, father2, lenCities)\n",
    "                \n",
    "                # xảy ra quá trình đột biến (mutation)\n",
    "                if random.random() <= mutation_rate:\n",
    "                    inv1 = mutation(inv1, lenCities)\n",
    "                    inv2 = mutation(inv2, lenCities)\n",
    "            \n",
    "            # nếu không có lai ghép xảy ra thì thực hiện lấy ngẫu nhiên 2 cá thể trong quần thể cũ\n",
    "            else:\n",
    "                inv1 = random.choices(population)[0][1]\n",
    "                inv2 = random.choices(population)[0][1]\n",
    "            \n",
    "            new_inviduals.append([fitness(inv1), inv1])\n",
    "            new_inviduals.append([fitness(inv2), inv2])\n",
    "            \n",
    "        population = tournaments(population, new_inviduals, population_size)\n",
    "        \n",
    "        best_invi = sorted(population)[0]\n",
    "        if _ % 50 == 0:\n",
    "            print(f'Loop: {_}, Fitness: {best_invi[0]}, Distance: {totalDistance(best_invi[1])}, Blinding constrains: {nOfBlindingConstrains(best_invi[1])}')\n",
    "        \n",
    "        fit.append(sorted(population)[0][0])\n",
    "        \n",
    "    return sorted(population), fit"
   ]
  },
  {
   "cell_type": "code",
   "execution_count": 11,
   "id": "2c5a73c4",
   "metadata": {
    "execution": {
     "iopub.execute_input": "2023-05-11T04:36:09.011460Z",
     "iopub.status.busy": "2023-05-11T04:36:09.010761Z",
     "iopub.status.idle": "2023-05-11T04:46:35.752495Z",
     "shell.execute_reply": "2023-05-11T04:46:35.751172Z"
    },
    "papermill": {
     "duration": 626.75169,
     "end_time": "2023-05-11T04:46:35.755081",
     "exception": false,
     "start_time": "2023-05-11T04:36:09.003391",
     "status": "completed"
    },
    "tags": []
   },
   "outputs": [
    {
     "name": "stdout",
     "output_type": "stream",
     "text": [
      "Loop: 0, Fitness: 3879383.8899072763, Distance: 28736.17696227612, Blinding constrains: 134\n",
      "Loop: 50, Fitness: 753460.9176530772, Distance: 25115.36392176924, Blinding constrains: 29\n",
      "Loop: 100, Fitness: 188099.7917435911, Distance: 20899.976860399012, Blinding constrains: 8\n",
      "Loop: 150, Fitness: 105739.36052438483, Distance: 21147.872104876966, Blinding constrains: 4\n",
      "Loop: 200, Fitness: 82572.38511255555, Distance: 20643.096278138888, Blinding constrains: 3\n",
      "Loop: 250, Fitness: 18900.53260522327, Distance: 18900.53260522327, Blinding constrains: 0\n",
      "Loop: 300, Fitness: 17097.426777506473, Distance: 17097.426777506473, Blinding constrains: 0\n",
      "Loop: 350, Fitness: 16611.95792589512, Distance: 16611.95792589512, Blinding constrains: 0\n",
      "Loop: 400, Fitness: 16461.707606680684, Distance: 16461.707606680684, Blinding constrains: 0\n",
      "Loop: 450, Fitness: 16159.932268849994, Distance: 16159.932268849994, Blinding constrains: 0\n",
      "Loop: 500, Fitness: 16113.751003028992, Distance: 16113.751003028992, Blinding constrains: 0\n",
      "Loop: 550, Fitness: 15783.669318399829, Distance: 15783.669318399829, Blinding constrains: 0\n",
      "Loop: 600, Fitness: 14990.21639832401, Distance: 14990.21639832401, Blinding constrains: 0\n",
      "Loop: 650, Fitness: 14990.21639832401, Distance: 14990.21639832401, Blinding constrains: 0\n",
      "Loop: 700, Fitness: 14990.21639832401, Distance: 14990.21639832401, Blinding constrains: 0\n",
      "Loop: 750, Fitness: 14984.523377958973, Distance: 14984.523377958973, Blinding constrains: 0\n",
      "Loop: 800, Fitness: 14984.523377958973, Distance: 14984.523377958973, Blinding constrains: 0\n",
      "Loop: 850, Fitness: 14840.613564386, Distance: 14840.613564386, Blinding constrains: 0\n",
      "Loop: 900, Fitness: 14840.613564386, Distance: 14840.613564386, Blinding constrains: 0\n",
      "Loop: 950, Fitness: 14564.95575560108, Distance: 14564.95575560108, Blinding constrains: 0\n",
      "Loop: 1000, Fitness: 14564.95575560108, Distance: 14564.95575560108, Blinding constrains: 0\n",
      "Loop: 1050, Fitness: 14525.824002081728, Distance: 14525.824002081728, Blinding constrains: 0\n",
      "Loop: 1100, Fitness: 14391.089159061314, Distance: 14391.089159061314, Blinding constrains: 0\n",
      "Loop: 1150, Fitness: 14391.089159061314, Distance: 14391.089159061314, Blinding constrains: 0\n",
      "Loop: 1200, Fitness: 14391.089159061314, Distance: 14391.089159061314, Blinding constrains: 0\n",
      "Loop: 1250, Fitness: 14220.984972901682, Distance: 14220.984972901682, Blinding constrains: 0\n",
      "Loop: 1300, Fitness: 14220.984972901682, Distance: 14220.984972901682, Blinding constrains: 0\n",
      "Loop: 1350, Fitness: 14220.984972901682, Distance: 14220.984972901682, Blinding constrains: 0\n",
      "Loop: 1400, Fitness: 14220.984972901682, Distance: 14220.984972901682, Blinding constrains: 0\n",
      "Loop: 1450, Fitness: 14220.984972901682, Distance: 14220.984972901682, Blinding constrains: 0\n",
      "Loop: 1500, Fitness: 14201.256847333216, Distance: 14201.256847333216, Blinding constrains: 0\n",
      "Loop: 1550, Fitness: 14090.783294277864, Distance: 14090.783294277864, Blinding constrains: 0\n",
      "Loop: 1600, Fitness: 14087.605757014302, Distance: 14087.605757014302, Blinding constrains: 0\n",
      "Loop: 1650, Fitness: 14087.605757014302, Distance: 14087.605757014302, Blinding constrains: 0\n",
      "Loop: 1700, Fitness: 14014.103295364217, Distance: 14014.103295364217, Blinding constrains: 0\n",
      "Loop: 1750, Fitness: 14014.103295364217, Distance: 14014.103295364217, Blinding constrains: 0\n",
      "Loop: 1800, Fitness: 14014.103295364217, Distance: 14014.103295364217, Blinding constrains: 0\n",
      "Loop: 1850, Fitness: 13816.882863136412, Distance: 13816.882863136412, Blinding constrains: 0\n",
      "Loop: 1900, Fitness: 13816.882863136412, Distance: 13816.882863136412, Blinding constrains: 0\n",
      "Loop: 1950, Fitness: 13816.882863136412, Distance: 13816.882863136412, Blinding constrains: 0\n",
      "Loop: 2000, Fitness: 13782.017429556803, Distance: 13782.017429556803, Blinding constrains: 0\n",
      "Loop: 2050, Fitness: 13782.017429556803, Distance: 13782.017429556803, Blinding constrains: 0\n",
      "Loop: 2100, Fitness: 13782.017429556803, Distance: 13782.017429556803, Blinding constrains: 0\n",
      "Loop: 2150, Fitness: 13782.017429556803, Distance: 13782.017429556803, Blinding constrains: 0\n",
      "Loop: 2200, Fitness: 13782.017429556803, Distance: 13782.017429556803, Blinding constrains: 0\n",
      "Loop: 2250, Fitness: 13782.017429556803, Distance: 13782.017429556803, Blinding constrains: 0\n",
      "Loop: 2300, Fitness: 13741.950140777306, Distance: 13741.950140777306, Blinding constrains: 0\n",
      "Loop: 2350, Fitness: 13741.950140777306, Distance: 13741.950140777306, Blinding constrains: 0\n",
      "Loop: 2400, Fitness: 13741.950140777306, Distance: 13741.950140777306, Blinding constrains: 0\n",
      "Loop: 2450, Fitness: 13741.950140777306, Distance: 13741.950140777306, Blinding constrains: 0\n",
      "Loop: 2500, Fitness: 13741.950140777306, Distance: 13741.950140777306, Blinding constrains: 0\n",
      "Loop: 2550, Fitness: 13741.950140777306, Distance: 13741.950140777306, Blinding constrains: 0\n",
      "Loop: 2600, Fitness: 13741.950140777306, Distance: 13741.950140777306, Blinding constrains: 0\n",
      "Loop: 2650, Fitness: 13741.950140777306, Distance: 13741.950140777306, Blinding constrains: 0\n",
      "Loop: 2700, Fitness: 13741.950140777306, Distance: 13741.950140777306, Blinding constrains: 0\n",
      "Loop: 2750, Fitness: 13741.950140777306, Distance: 13741.950140777306, Blinding constrains: 0\n",
      "Loop: 2800, Fitness: 13741.950140777306, Distance: 13741.950140777306, Blinding constrains: 0\n",
      "Loop: 2850, Fitness: 13741.950140777306, Distance: 13741.950140777306, Blinding constrains: 0\n",
      "Loop: 2900, Fitness: 13741.950140777306, Distance: 13741.950140777306, Blinding constrains: 0\n",
      "Loop: 2950, Fitness: 13741.950140777306, Distance: 13741.950140777306, Blinding constrains: 0\n",
      "Loop: 3000, Fitness: 13741.950140777306, Distance: 13741.950140777306, Blinding constrains: 0\n",
      "Loop: 3050, Fitness: 13741.950140777306, Distance: 13741.950140777306, Blinding constrains: 0\n",
      "Loop: 3100, Fitness: 13741.950140777306, Distance: 13741.950140777306, Blinding constrains: 0\n",
      "Loop: 3150, Fitness: 13741.950140777306, Distance: 13741.950140777306, Blinding constrains: 0\n",
      "Loop: 3200, Fitness: 13741.950140777306, Distance: 13741.950140777306, Blinding constrains: 0\n",
      "Loop: 3250, Fitness: 13741.950140777306, Distance: 13741.950140777306, Blinding constrains: 0\n",
      "Loop: 3300, Fitness: 13741.950140777306, Distance: 13741.950140777306, Blinding constrains: 0\n",
      "Loop: 3350, Fitness: 13740.084086756826, Distance: 13740.084086756826, Blinding constrains: 0\n",
      "Loop: 3400, Fitness: 13730.671256641563, Distance: 13730.671256641563, Blinding constrains: 0\n",
      "Loop: 3450, Fitness: 13602.631522811733, Distance: 13602.631522811733, Blinding constrains: 0\n",
      "Loop: 3500, Fitness: 13602.631522811733, Distance: 13602.631522811733, Blinding constrains: 0\n",
      "Loop: 3550, Fitness: 13602.631522811733, Distance: 13602.631522811733, Blinding constrains: 0\n",
      "Loop: 3600, Fitness: 13602.631522811733, Distance: 13602.631522811733, Blinding constrains: 0\n",
      "Loop: 3650, Fitness: 13602.631522811733, Distance: 13602.631522811733, Blinding constrains: 0\n",
      "Loop: 3700, Fitness: 13602.631522811733, Distance: 13602.631522811733, Blinding constrains: 0\n",
      "Loop: 3750, Fitness: 13602.631522811733, Distance: 13602.631522811733, Blinding constrains: 0\n",
      "Loop: 3800, Fitness: 13602.631522811733, Distance: 13602.631522811733, Blinding constrains: 0\n",
      "Loop: 3850, Fitness: 13602.631522811733, Distance: 13602.631522811733, Blinding constrains: 0\n",
      "Loop: 3900, Fitness: 13602.631522811733, Distance: 13602.631522811733, Blinding constrains: 0\n",
      "Loop: 3950, Fitness: 13602.631522811733, Distance: 13602.631522811733, Blinding constrains: 0\n",
      "Loop: 4000, Fitness: 13372.813899555582, Distance: 13372.813899555582, Blinding constrains: 0\n",
      "Loop: 4050, Fitness: 13356.440148856005, Distance: 13356.440148856005, Blinding constrains: 0\n",
      "Loop: 4100, Fitness: 13356.440148856005, Distance: 13356.440148856005, Blinding constrains: 0\n",
      "Loop: 4150, Fitness: 13356.440148856005, Distance: 13356.440148856005, Blinding constrains: 0\n",
      "Loop: 4200, Fitness: 13356.440148856005, Distance: 13356.440148856005, Blinding constrains: 0\n",
      "Loop: 4250, Fitness: 13356.440148856005, Distance: 13356.440148856005, Blinding constrains: 0\n",
      "Loop: 4300, Fitness: 13356.440148856005, Distance: 13356.440148856005, Blinding constrains: 0\n",
      "Loop: 4350, Fitness: 13158.850144998334, Distance: 13158.850144998334, Blinding constrains: 0\n",
      "Loop: 4400, Fitness: 13158.850144998334, Distance: 13158.850144998334, Blinding constrains: 0\n",
      "Loop: 4450, Fitness: 13090.726197869903, Distance: 13090.726197869903, Blinding constrains: 0\n",
      "Loop: 4500, Fitness: 13090.726197869903, Distance: 13090.726197869903, Blinding constrains: 0\n",
      "Loop: 4550, Fitness: 13074.847972970567, Distance: 13074.847972970567, Blinding constrains: 0\n",
      "Loop: 4600, Fitness: 12880.940580256996, Distance: 12880.940580256996, Blinding constrains: 0\n",
      "Loop: 4650, Fitness: 12597.761222845977, Distance: 12597.761222845977, Blinding constrains: 0\n",
      "Loop: 4700, Fitness: 12494.089076158909, Distance: 12494.089076158909, Blinding constrains: 0\n",
      "Loop: 4750, Fitness: 12395.694906082586, Distance: 12395.694906082586, Blinding constrains: 0\n",
      "Loop: 4800, Fitness: 12375.450973640156, Distance: 12375.450973640156, Blinding constrains: 0\n",
      "Loop: 4850, Fitness: 12375.450973640156, Distance: 12375.450973640156, Blinding constrains: 0\n",
      "Loop: 4900, Fitness: 12375.450973640156, Distance: 12375.450973640156, Blinding constrains: 0\n",
      "Loop: 4950, Fitness: 12375.450973640156, Distance: 12375.450973640156, Blinding constrains: 0\n"
     ]
    }
   ],
   "source": [
    "population = initPopulation(cities, size=100) # Khởi tạo quần thể đầu tiên\n",
    "pop, fit = GA(population=population, crossover_func=singlePointCrossover, lenCities=len(cities))"
   ]
  },
  {
   "cell_type": "code",
   "execution_count": 12,
   "id": "14b2649e",
   "metadata": {
    "execution": {
     "iopub.execute_input": "2023-05-11T04:46:35.776918Z",
     "iopub.status.busy": "2023-05-11T04:46:35.776536Z",
     "iopub.status.idle": "2023-05-11T04:46:36.723371Z",
     "shell.execute_reply": "2023-05-11T04:46:36.722520Z"
    },
    "papermill": {
     "duration": 0.960736,
     "end_time": "2023-05-11T04:46:36.726208",
     "exception": false,
     "start_time": "2023-05-11T04:46:35.765472",
     "status": "completed"
    },
    "tags": []
   },
   "outputs": [
    {
     "data": {
      "image/png": "[encoded data removed]",
      "text/plain": [
       "<Figure size 640x480 with 1 Axes>"
      ]
     },
     "metadata": {},
     "output_type": "display_data"
    }
   ],
   "source": [
    "drawMap(cities, pop[0][1])"
   ]
  }
 ],
 "metadata": {
  "kernelspec": {
   "display_name": "Python 3",
   "language": "python",
   "name": "python3"
  },
  "language_info": {
   "codemirror_mode": {
    "name": "ipython",
    "version": 3
   },
   "file_extension": ".py",
   "mimetype": "text/x-python",
   "name": "python",
   "nbconvert_exporter": "python",
   "pygments_lexer": "ipython3",
   "version": "3.10.10"
  },
  "papermill": {
   "default_parameters": {},
   "duration": 641.014471,
   "end_time": "2023-05-11T04:46:37.559696",
   "environment_variables": {},
   "exception": null,
   "input_path": "__notebook__.ipynb",
   "output_path": "__notebook__.ipynb",
   "parameters": {},
   "start_time": "2023-05-11T04:35:56.545225",
   "version": "2.4.0"
  }
 },
 "nbformat": 4,
 "nbformat_minor": 5
}
