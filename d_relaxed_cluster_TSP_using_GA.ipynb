{
 "cells": [
  {
   "cell_type": "code",
   "execution_count": 1,
   "id": "596c0796",
   "metadata": {
    "_cell_guid": "b1076dfc-b9ad-4769-8c92-a6c4dae69d19",
    "_uuid": "8f2839f25d086af736a60e9eeb907d3b93b6e0e5",
    "execution": {
     "iopub.execute_input": "2023-05-11T05:29:17.762390Z",
     "iopub.status.busy": "2023-05-11T05:29:17.761978Z",
     "iopub.status.idle": "2023-05-11T05:29:17.771945Z",
     "shell.execute_reply": "2023-05-11T05:29:17.770894Z"
    },
    "papermill": {
     "duration": 0.019415,
     "end_time": "2023-05-11T05:29:17.774751",
     "exception": false,
     "start_time": "2023-05-11T05:29:17.755336",
     "status": "completed"
    },
    "tags": []
   },
   "outputs": [],
   "source": [
    "import random\n",
    "import numpy as np\n",
    "import matplotlib.pyplot as plt\n",
    "import pandas as pd\n",
    "\n",
    "d_relaxed = 1"
   ]
  },
  {
   "cell_type": "code",
   "execution_count": 2,
   "id": "4c890a40",
   "metadata": {
    "execution": {
     "iopub.execute_input": "2023-05-11T05:29:17.785187Z",
     "iopub.status.busy": "2023-05-11T05:29:17.784776Z",
     "iopub.status.idle": "2023-05-11T05:29:17.807627Z",
     "shell.execute_reply": "2023-05-11T05:29:17.806472Z"
    },
    "papermill": {
     "duration": 0.031142,
     "end_time": "2023-05-11T05:29:17.810480",
     "exception": false,
     "start_time": "2023-05-11T05:29:17.779338",
     "status": "completed"
    },
    "tags": []
   },
   "outputs": [],
   "source": [
    "cities = np.loadtxt(\"/kaggle/input/tsp51cities/berlin52_C_5 (1).txt\")"
   ]
  },
  {
   "cell_type": "code",
   "execution_count": 3,
   "id": "afa0c1e9",
   "metadata": {
    "execution": {
     "iopub.execute_input": "2023-05-11T05:29:17.821719Z",
     "iopub.status.busy": "2023-05-11T05:29:17.820621Z",
     "iopub.status.idle": "2023-05-11T05:29:17.832308Z",
     "shell.execute_reply": "2023-05-11T05:29:17.831269Z"
    },
    "papermill": {
     "duration": 0.019989,
     "end_time": "2023-05-11T05:29:17.834999",
     "exception": false,
     "start_time": "2023-05-11T05:29:17.815010",
     "status": "completed"
    },
    "tags": []
   },
   "outputs": [],
   "source": [
    "# draw cities and answer map\n",
    "def drawMap(cities, answer, nCluster=5, title=\"\"):\n",
    "    colors={0:\"blue\", 1:\"orange\", 2:\"green\", 3:\"red\", 4:\"purple\"}\n",
    "    clusters = [[] for i in range(nCluster)]\n",
    "    for city in cities:\n",
    "        clusters[int(city[3])].append(city)\n",
    "\n",
    "    for i in range(len(clusters)):\n",
    "        city = clusters[i][0]\n",
    "        plt.plot(city[1], city[2], color=colors[i], marker='o', label=f\"priority: {i}\")\n",
    "        plt.annotate(int(city[0]), (city[1], city[2]))\n",
    "        plt.legend()\n",
    "        for j in range(1, len(clusters[i])):\n",
    "            city = clusters[i][j]\n",
    "            plt.plot(city[1], city[2], color=colors[i], marker='o')\n",
    "            plt.annotate(int(city[0]), (city[1], city[2]))\n",
    "\n",
    "    for i in range(len(answer)):\n",
    "        try:\n",
    "            first = int(answer[i])\n",
    "            secend = int(answer[i + 1])\n",
    "\n",
    "            plt.plot([cities[first-1][1], cities[secend-1][1]], [cities[first-1][2], cities[secend-1][2]], \"gray\")\n",
    "        except:\n",
    "            continue\n",
    "\n",
    "    first = int(answer[0])\n",
    "    secend = int(answer[-1])\n",
    "    plt.plot([cities[first-1][1], cities[secend-1][1]], [cities[first-1][2], cities[secend-1][2]], \"red\")\n",
    "    plt.title(title)\n",
    "    plt.show()"
   ]
  },
  {
   "cell_type": "code",
   "execution_count": 4,
   "id": "8f694513",
   "metadata": {
    "execution": {
     "iopub.execute_input": "2023-05-11T05:29:17.845877Z",
     "iopub.status.busy": "2023-05-11T05:29:17.845453Z",
     "iopub.status.idle": "2023-05-11T05:29:17.855495Z",
     "shell.execute_reply": "2023-05-11T05:29:17.854277Z"
    },
    "papermill": {
     "duration": 0.018309,
     "end_time": "2023-05-11T05:29:17.857830",
     "exception": false,
     "start_time": "2023-05-11T05:29:17.839521",
     "status": "completed"
    },
    "tags": []
   },
   "outputs": [],
   "source": [
    "dis_mat = []\n",
    "for cityA in cities:\n",
    "    dis_vec = []\n",
    "    for cityB in cities:\n",
    "        dis = ((cityA[1] - cityB[1])**2 + (cityA[2] - cityB[2])**2)**0.5\n",
    "        dis_vec.append(dis)\n",
    "    dis_mat.append(dis_vec)"
   ]
  },
  {
   "cell_type": "code",
   "execution_count": 5,
   "id": "5246bda2",
   "metadata": {
    "execution": {
     "iopub.execute_input": "2023-05-11T05:29:17.868209Z",
     "iopub.status.busy": "2023-05-11T05:29:17.867806Z",
     "iopub.status.idle": "2023-05-11T05:29:17.876288Z",
     "shell.execute_reply": "2023-05-11T05:29:17.875377Z"
    },
    "papermill": {
     "duration": 0.016332,
     "end_time": "2023-05-11T05:29:17.878585",
     "exception": false,
     "start_time": "2023-05-11T05:29:17.862253",
     "status": "completed"
    },
    "tags": []
   },
   "outputs": [],
   "source": [
    "# hàm tính tổng khoảng cách\n",
    "def totalDistance(individual):\n",
    "    #cities: là 1 lời giải (cá thể) dưới dạng danh sách các thành phố sẽ đi qua\n",
    "    # ví dụ n = 5: [[*3,15,10],[*1,5,10],[*2,50,34],[*5,1,20],[*4,23,31]]\n",
    "    summ = 0\n",
    "    n = len(individual)\n",
    "    for i in range(n - 1):\n",
    "        cityA = int(individual[i]) - 1\n",
    "        cityB = int(individual[i + 1]) - 1\n",
    "        summ += dis_mat[cityA][cityB]\n",
    "    \n",
    "    # quay lại thành phố đầu tiên\n",
    "    cityA = int(individual[0]) - 1\n",
    "    cityB = int(individual[-1]) - 1\n",
    "    summ += dis_mat[cityA][cityB]\n",
    "    \n",
    "    return summ\n",
    "\n",
    "def nOfBlindingConstrains(individual):\n",
    "    count = 0\n",
    "    n = len(individual)\n",
    "    for i in range(n):\n",
    "        for j in range(i+1, n):\n",
    "            cityA = int(individual[i]) - 1\n",
    "            cityB = int(individual[j]) - 1\n",
    "#             if cityA == 41:\n",
    "#                 print(f'{cityA + 1}: {cities[cityA][3]} to {cityB + 1}: {cities[cityB][3]}')\n",
    "            if cities[cityA][3] - cities[cityB][3] > d_relaxed:\n",
    "                count += 1\n",
    "    return count\n",
    "\n",
    "def fitness(individual):\n",
    "    return (nOfBlindingConstrains(individual) + 1)*totalDistance(individual)"
   ]
  },
  {
   "cell_type": "code",
   "execution_count": 6,
   "id": "d233ffa5",
   "metadata": {
    "execution": {
     "iopub.execute_input": "2023-05-11T05:29:17.889222Z",
     "iopub.status.busy": "2023-05-11T05:29:17.888418Z",
     "iopub.status.idle": "2023-05-11T05:29:17.894169Z",
     "shell.execute_reply": "2023-05-11T05:29:17.893392Z"
    },
    "papermill": {
     "duration": 0.013166,
     "end_time": "2023-05-11T05:29:17.896083",
     "exception": false,
     "start_time": "2023-05-11T05:29:17.882917",
     "status": "completed"
    },
    "tags": []
   },
   "outputs": [],
   "source": [
    "# khởi tạo quần thể ban đầu \n",
    "def initPopulation(cities, size):\n",
    "    population = []\n",
    "\n",
    "    for i in range(size):\n",
    "        invi = list(np.array(cities.copy())[:,0])\n",
    "        random.shuffle(invi)\n",
    "        distance = fitness(invi)\n",
    "        population.append([distance, invi])\n",
    "\n",
    "    return population"
   ]
  },
  {
   "cell_type": "code",
   "execution_count": 7,
   "id": "e1a6ee1c",
   "metadata": {
    "execution": {
     "iopub.execute_input": "2023-05-11T05:29:17.906804Z",
     "iopub.status.busy": "2023-05-11T05:29:17.906367Z",
     "iopub.status.idle": "2023-05-11T05:29:17.924056Z",
     "shell.execute_reply": "2023-05-11T05:29:17.922898Z"
    },
    "papermill": {
     "duration": 0.025813,
     "end_time": "2023-05-11T05:29:17.926289",
     "exception": false,
     "start_time": "2023-05-11T05:29:17.900476",
     "status": "completed"
    },
    "tags": []
   },
   "outputs": [],
   "source": [
    "# Toán tử lai 1 điểm cắt\n",
    "#   father1: 2,3,5|1,4    father2: 1,3,5|4,2     điểm cắt: 3\n",
    "# new_invi1: 1,3,5,2,4  new_invi2: 2,3,5,1,4\n",
    "def singlePointCrossover(father1, father2, lenCities=51):\n",
    "    point = random.randint(0, lenCities - 1)\n",
    "    \n",
    "    new_invi1 = father2[0:point]\n",
    "    for invi in father1:\n",
    "        if invi not in new_invi1:\n",
    "            new_invi1.append(invi)\n",
    "            \n",
    "    new_invi2 = father1[0:point]\n",
    "    for invi in father2:\n",
    "        if invi not in new_invi2:\n",
    "            new_invi2.append(invi)\n",
    "            \n",
    "    return new_invi1, new_invi2\n",
    "\n",
    "# Toán tử lai 2 điểm cắt\n",
    "#   father1: 6,2|4,3|1,5    father2: 6,1|3,5|4,2     điểm cắt: 2,4\n",
    "# new_invi1: 4,1,3,5,6,2  new_invi2: 5,2,4,3,6,1\n",
    "def multiPointCrossover(father1, father2, lenCities=51):\n",
    "    points = sorted(random.sample(father1, 2))\n",
    "    point1 = int(points[0]) - 1\n",
    "    point2 = int(points[1]) - 1\n",
    "    \n",
    "    new_invi1 = father2[point1:point2]\n",
    "    c1 = 0\n",
    "    c2 = 0\n",
    "    for invi in father1:\n",
    "        if invi not in new_invi1:\n",
    "            c1 += 1\n",
    "            if c1 <= point1:\n",
    "                new_invi1.append(invi)\n",
    "            else:\n",
    "                new_invi1.insert(c2, invi)\n",
    "                c2 += 1\n",
    "            \n",
    "            \n",
    "    new_invi2 = father1[point1:point2]\n",
    "    c1 = 0\n",
    "    c2 = 0\n",
    "    for invi in father2:\n",
    "        if invi not in new_invi2:\n",
    "            c1 += 1\n",
    "            if c1 <= point1:\n",
    "                new_invi2.append(invi)\n",
    "            else:\n",
    "                new_invi2.insert(c2, invi)\n",
    "                c2 += 1\n",
    "                \n",
    "    return new_invi1, new_invi2\n",
    "\n",
    "# Toán tử lai vòng\n",
    "# father1: 12345678\n",
    "# father2: 85213647\n",
    "# start=1 => inv1: 1**4**78 => 15243678\n",
    "# start=2 => inv2: *23*5*** => 82315647\n",
    "def cycleCrossover(father1, father2, lenCities=51):\n",
    "    father1 = [int(s) for s in father1]\n",
    "    father2 = [int(s) for s in father2]\n",
    "    \n",
    "    points = sorted(random.sample([i for i in range(lenCities)], 2))\n",
    "    p1 = 0#p1 = int(points[0])\n",
    "    p2 = 1#int(points[1])\n",
    "    \n",
    "    # inv1\n",
    "    inv1 = list(np.zeros(lenCities, dtype=np.int8))\n",
    "    inv1[p1] = father1[p1]\n",
    "    s1 = p1\n",
    "    count = 0\n",
    "    while father2[s1] != father1[p1] and count != lenCities:\n",
    "        count += 1\n",
    "        s1 = father2[s1] - 1\n",
    "        inv1[s1] = father1[s1]\n",
    "    \n",
    "    for city_i in father2:\n",
    "        if city_i not in inv1:\n",
    "            for i in range(lenCities):\n",
    "                if inv1[i] == 0:\n",
    "                    inv1[i] = city_i\n",
    "                    break\n",
    "    \n",
    "    # inv2\n",
    "    inv2 = list(np.zeros(lenCities, dtype=np.int8))\n",
    "    inv2[p2] = father1[p2]\n",
    "    s2 = p2\n",
    "    count = 0\n",
    "    while father2[s2] != father1[p2] and count != lenCities:\n",
    "        count += 1\n",
    "        s2 = father2[s2] - 1\n",
    "        inv2[s2] = father1[s2]\n",
    "    \n",
    "    for city_i in father2:\n",
    "        if city_i not in inv2:\n",
    "            for i in range(lenCities):\n",
    "                if inv2[i] == 0:\n",
    "                    inv2[i] = city_i\n",
    "                    break\n",
    "    \n",
    "    inv1 = [np.str_(s) for s in inv1]\n",
    "    inv2 = [np.str_(s) for s in inv2]\n",
    "    \n",
    "    return inv1, inv2"
   ]
  },
  {
   "cell_type": "code",
   "execution_count": 8,
   "id": "8f4f8f74",
   "metadata": {
    "execution": {
     "iopub.execute_input": "2023-05-11T05:29:17.936685Z",
     "iopub.status.busy": "2023-05-11T05:29:17.936273Z",
     "iopub.status.idle": "2023-05-11T05:29:17.942998Z",
     "shell.execute_reply": "2023-05-11T05:29:17.941664Z"
    },
    "papermill": {
     "duration": 0.014761,
     "end_time": "2023-05-11T05:29:17.945321",
     "exception": false,
     "start_time": "2023-05-11T05:29:17.930560",
     "status": "completed"
    },
    "tags": []
   },
   "outputs": [],
   "source": [
    "# đột biến: chọn ngẫu nhiên 2 thành phố rồi đổi chỗ cho nhau, thực hiện 2 lần\n",
    "# 2,1,5,3,4 => 4,1,5,3,2 => 1,4,5,3,2\n",
    "def mutation(father, lenCities=51):\n",
    "    new_invi = father.copy()\n",
    "    for _ in range(2):\n",
    "        points = random.sample(new_invi, 2)\n",
    "        temp = new_invi[int(points[0]) - 1]\n",
    "        new_invi[int(points[0]) - 1] = new_invi[int(points[1]) - 1]\n",
    "        new_invi[int(points[1]) - 1] = temp\n",
    "        \n",
    "    return new_invi"
   ]
  },
  {
   "cell_type": "code",
   "execution_count": 9,
   "id": "fbf3ec80",
   "metadata": {
    "execution": {
     "iopub.execute_input": "2023-05-11T05:29:17.956984Z",
     "iopub.status.busy": "2023-05-11T05:29:17.956430Z",
     "iopub.status.idle": "2023-05-11T05:29:17.965756Z",
     "shell.execute_reply": "2023-05-11T05:29:17.964213Z"
    },
    "papermill": {
     "duration": 0.018961,
     "end_time": "2023-05-11T05:29:17.968877",
     "exception": false,
     "start_time": "2023-05-11T05:29:17.949916",
     "status": "completed"
    },
    "tags": []
   },
   "outputs": [],
   "source": [
    "def tournaments(old_population, new_invivduals, population_size = 100):\n",
    "    new_population = []\n",
    "    k1 = 2\n",
    "    k2 = 2\n",
    "    \n",
    "    # giữ lại k1 cá thể tốt nhất của quần thể cũ\n",
    "    tmp1 = sorted(old_population)\n",
    "    for i in range(k1):\n",
    "        new_population.append(tmp1[i])\n",
    "    \n",
    "    # giữ lại k2 cá thể mới được sinh ra\n",
    "    tmp2 = sorted(new_invivduals)\n",
    "    for i in range(k2):\n",
    "        new_population.append(tmp2[i])\n",
    "        \n",
    "    # lấy ngẫu nhiên k3 cá thể trong các cá thể còn lại\n",
    "    tmp3 = tmp1[k1:] + tmp2[k2:]\n",
    "    k3 = population_size - k1 - k2\n",
    "    weights = []\n",
    "    for i in range(len(tmp3)):\n",
    "        weights.append(tmp3[i][0])\n",
    "    new_population = new_population + random.choices(tmp3, weights=weights, k=k3)\n",
    "    \n",
    "    return new_population"
   ]
  },
  {
   "cell_type": "code",
   "execution_count": 10,
   "id": "d6ffac64",
   "metadata": {
    "execution": {
     "iopub.execute_input": "2023-05-11T05:29:17.981089Z",
     "iopub.status.busy": "2023-05-11T05:29:17.980177Z",
     "iopub.status.idle": "2023-05-11T05:29:17.991211Z",
     "shell.execute_reply": "2023-05-11T05:29:17.990277Z"
    },
    "papermill": {
     "duration": 0.022869,
     "end_time": "2023-05-11T05:29:17.996216",
     "exception": false,
     "start_time": "2023-05-11T05:29:17.973347",
     "status": "completed"
    },
    "tags": []
   },
   "outputs": [],
   "source": [
    "def GA(\n",
    "    population,\n",
    "    lenCities = 51,\n",
    "    population_size = 100,\n",
    "    num_of_generations = 10000,\n",
    "    crossover_rate = 0.9,\n",
    "    mutation_rate = 0.1,\n",
    "    crossover_func=singlePointCrossover,\n",
    "    k = 4\n",
    "):\n",
    "    \n",
    "    fit = [] # lưu lại cá thể tốt nhất trong mỗi thế hệ\n",
    "    fit.append(sorted(population)[0][0])\n",
    "    \n",
    "    for _ in range(num_of_generations):\n",
    "        new_inviduals = []\n",
    "        \n",
    "        # sinh population_size cá thể mới\n",
    "        n = int(population_size/2)\n",
    "        for _i in range(n):\n",
    "            \n",
    "            # xảy ra quá trình lai ghép (crossover)\n",
    "            if random.random() <= crossover_rate:\n",
    "                # chọn cá thể tốt nhất trong 'k' cá thể ngẫu nhiên làm father1\n",
    "                father1 = sorted(random.choices(population, k=k))[0][1]\n",
    "                \n",
    "                # chọn cá thể tốt nhất trong 'k' cá thể ngẫu nhiên làm father2\n",
    "                father2 = sorted(random.choices(population, k=k))[0][1]\n",
    "                \n",
    "                # thực hiện lai ghép 2 cá thể này\n",
    "                inv1, inv2 = crossover_func(father1, father2, lenCities)\n",
    "                \n",
    "                # xảy ra quá trình đột biến (mutation)\n",
    "                if random.random() <= mutation_rate:\n",
    "                    inv1 = mutation(inv1, lenCities)\n",
    "                    inv2 = mutation(inv2, lenCities)\n",
    "            \n",
    "            # nếu không có lai ghép xảy ra thì thực hiện lấy ngẫu nhiên 2 cá thể trong quần thể cũ\n",
    "            else:\n",
    "                inv1 = random.choices(population)[0][1]\n",
    "                inv2 = random.choices(population)[0][1]\n",
    "            \n",
    "            new_inviduals.append([fitness(inv1), inv1])\n",
    "            new_inviduals.append([fitness(inv2), inv2])\n",
    "            \n",
    "        population = tournaments(population, new_inviduals, population_size)\n",
    "        \n",
    "        best_invi = sorted(population)[0]\n",
    "        if _ % 100 == 0:\n",
    "            print(f'Loop: {_}, Fitness: {best_invi[0]}, Distance: {totalDistance(best_invi[1])}, Blinding constrains: {nOfBlindingConstrains(best_invi[1])}')\n",
    "        \n",
    "        fit.append(sorted(population)[0][0])\n",
    "        \n",
    "    return sorted(population), fit"
   ]
  },
  {
   "cell_type": "code",
   "execution_count": 11,
   "id": "6d9ea7be",
   "metadata": {
    "execution": {
     "iopub.execute_input": "2023-05-11T05:29:18.008083Z",
     "iopub.status.busy": "2023-05-11T05:29:18.007263Z",
     "iopub.status.idle": "2023-05-11T05:50:12.074761Z",
     "shell.execute_reply": "2023-05-11T05:50:12.073618Z"
    },
    "papermill": {
     "duration": 1254.076499,
     "end_time": "2023-05-11T05:50:12.077460",
     "exception": false,
     "start_time": "2023-05-11T05:29:18.000961",
     "status": "completed"
    },
    "tags": []
   },
   "outputs": [
    {
     "name": "stdout",
     "output_type": "stream",
     "text": [
      "Loop: 0, Fitness: 5054672.419710487, Distance: 31010.26024362262, Blinding constrains: 162\n",
      "Loop: 100, Fitness: 619306.5037921539, Distance: 22118.089421148354, Blinding constrains: 27\n",
      "Loop: 200, Fitness: 419879.74902226846, Distance: 20993.987451113422, Blinding constrains: 19\n",
      "Loop: 300, Fitness: 228699.13693563227, Distance: 20790.830630512024, Blinding constrains: 10\n",
      "Loop: 400, Fitness: 19688.6427454999, Distance: 19688.6427454999, Blinding constrains: 0\n",
      "Loop: 500, Fitness: 18796.476124955974, Distance: 18796.476124955974, Blinding constrains: 0\n",
      "Loop: 600, Fitness: 18445.02927996183, Distance: 18445.02927996183, Blinding constrains: 0\n",
      "Loop: 700, Fitness: 18356.012914425206, Distance: 18356.012914425206, Blinding constrains: 0\n",
      "Loop: 800, Fitness: 18198.610959281683, Distance: 18198.610959281683, Blinding constrains: 0\n",
      "Loop: 900, Fitness: 16598.268644485623, Distance: 16598.268644485623, Blinding constrains: 0\n",
      "Loop: 1000, Fitness: 16394.786422814374, Distance: 16394.786422814374, Blinding constrains: 0\n",
      "Loop: 1100, Fitness: 16381.113364416042, Distance: 16381.113364416042, Blinding constrains: 0\n",
      "Loop: 1200, Fitness: 15931.157290691617, Distance: 15931.157290691617, Blinding constrains: 0\n",
      "Loop: 1300, Fitness: 15753.687148206445, Distance: 15753.687148206445, Blinding constrains: 0\n",
      "Loop: 1400, Fitness: 15550.227748322652, Distance: 15550.227748322652, Blinding constrains: 0\n",
      "Loop: 1500, Fitness: 15550.227748322652, Distance: 15550.227748322652, Blinding constrains: 0\n",
      "Loop: 1600, Fitness: 15364.002307183026, Distance: 15364.002307183026, Blinding constrains: 0\n",
      "Loop: 1700, Fitness: 15339.75254872383, Distance: 15339.75254872383, Blinding constrains: 0\n",
      "Loop: 1800, Fitness: 15339.75254872383, Distance: 15339.75254872383, Blinding constrains: 0\n",
      "Loop: 1900, Fitness: 15335.730248634643, Distance: 15335.730248634643, Blinding constrains: 0\n",
      "Loop: 2000, Fitness: 15335.730248634643, Distance: 15335.730248634643, Blinding constrains: 0\n",
      "Loop: 2100, Fitness: 14490.271503878315, Distance: 14490.271503878315, Blinding constrains: 0\n",
      "Loop: 2200, Fitness: 14490.271503878315, Distance: 14490.271503878315, Blinding constrains: 0\n",
      "Loop: 2300, Fitness: 14425.26455150087, Distance: 14425.26455150087, Blinding constrains: 0\n",
      "Loop: 2400, Fitness: 14425.26455150087, Distance: 14425.26455150087, Blinding constrains: 0\n",
      "Loop: 2500, Fitness: 14202.923446167893, Distance: 14202.923446167893, Blinding constrains: 0\n",
      "Loop: 2600, Fitness: 13893.82181657253, Distance: 13893.82181657253, Blinding constrains: 0\n",
      "Loop: 2700, Fitness: 13893.82181657253, Distance: 13893.82181657253, Blinding constrains: 0\n",
      "Loop: 2800, Fitness: 13893.82181657253, Distance: 13893.82181657253, Blinding constrains: 0\n",
      "Loop: 2900, Fitness: 13835.428121576653, Distance: 13835.428121576653, Blinding constrains: 0\n",
      "Loop: 3000, Fitness: 12881.6098078958, Distance: 12881.6098078958, Blinding constrains: 0\n",
      "Loop: 3100, Fitness: 12881.6098078958, Distance: 12881.6098078958, Blinding constrains: 0\n",
      "Loop: 3200, Fitness: 12881.6098078958, Distance: 12881.6098078958, Blinding constrains: 0\n",
      "Loop: 3300, Fitness: 12881.6098078958, Distance: 12881.6098078958, Blinding constrains: 0\n",
      "Loop: 3400, Fitness: 12881.6098078958, Distance: 12881.6098078958, Blinding constrains: 0\n",
      "Loop: 3500, Fitness: 12881.6098078958, Distance: 12881.6098078958, Blinding constrains: 0\n",
      "Loop: 3600, Fitness: 12881.6098078958, Distance: 12881.6098078958, Blinding constrains: 0\n",
      "Loop: 3700, Fitness: 12709.520603126202, Distance: 12709.520603126202, Blinding constrains: 0\n",
      "Loop: 3800, Fitness: 12599.137046956053, Distance: 12599.137046956053, Blinding constrains: 0\n",
      "Loop: 3900, Fitness: 12599.137046956053, Distance: 12599.137046956053, Blinding constrains: 0\n",
      "Loop: 4000, Fitness: 12525.33274480958, Distance: 12525.33274480958, Blinding constrains: 0\n",
      "Loop: 4100, Fitness: 12525.33274480958, Distance: 12525.33274480958, Blinding constrains: 0\n",
      "Loop: 4200, Fitness: 12167.762474057075, Distance: 12167.762474057075, Blinding constrains: 0\n",
      "Loop: 4300, Fitness: 12167.762474057075, Distance: 12167.762474057075, Blinding constrains: 0\n",
      "Loop: 4400, Fitness: 11816.313251503114, Distance: 11816.313251503114, Blinding constrains: 0\n",
      "Loop: 4500, Fitness: 11816.313251503114, Distance: 11816.313251503114, Blinding constrains: 0\n",
      "Loop: 4600, Fitness: 11816.313251503114, Distance: 11816.313251503114, Blinding constrains: 0\n",
      "Loop: 4700, Fitness: 11816.313251503114, Distance: 11816.313251503114, Blinding constrains: 0\n",
      "Loop: 4800, Fitness: 11772.676221820624, Distance: 11772.676221820624, Blinding constrains: 0\n",
      "Loop: 4900, Fitness: 11755.227507104628, Distance: 11755.227507104628, Blinding constrains: 0\n",
      "Loop: 5000, Fitness: 11755.227507104628, Distance: 11755.227507104628, Blinding constrains: 0\n",
      "Loop: 5100, Fitness: 11755.227507104628, Distance: 11755.227507104628, Blinding constrains: 0\n",
      "Loop: 5200, Fitness: 11755.227507104628, Distance: 11755.227507104628, Blinding constrains: 0\n",
      "Loop: 5300, Fitness: 11755.227507104628, Distance: 11755.227507104628, Blinding constrains: 0\n",
      "Loop: 5400, Fitness: 11755.227507104628, Distance: 11755.227507104628, Blinding constrains: 0\n",
      "Loop: 5500, Fitness: 11749.409399152555, Distance: 11749.409399152555, Blinding constrains: 0\n",
      "Loop: 5600, Fitness: 11745.591636968016, Distance: 11745.591636968016, Blinding constrains: 0\n",
      "Loop: 5700, Fitness: 11745.591636968016, Distance: 11745.591636968016, Blinding constrains: 0\n",
      "Loop: 5800, Fitness: 11745.591636968016, Distance: 11745.591636968016, Blinding constrains: 0\n",
      "Loop: 5900, Fitness: 11745.591636968016, Distance: 11745.591636968016, Blinding constrains: 0\n",
      "Loop: 6000, Fitness: 11745.591636968016, Distance: 11745.591636968016, Blinding constrains: 0\n",
      "Loop: 6100, Fitness: 11745.591636968016, Distance: 11745.591636968016, Blinding constrains: 0\n",
      "Loop: 6200, Fitness: 11729.321186098383, Distance: 11729.321186098383, Blinding constrains: 0\n",
      "Loop: 6300, Fitness: 11729.321186098383, Distance: 11729.321186098383, Blinding constrains: 0\n",
      "Loop: 6400, Fitness: 11729.321186098383, Distance: 11729.321186098383, Blinding constrains: 0\n",
      "Loop: 6500, Fitness: 11729.321186098383, Distance: 11729.321186098383, Blinding constrains: 0\n",
      "Loop: 6600, Fitness: 11729.321186098383, Distance: 11729.321186098383, Blinding constrains: 0\n",
      "Loop: 6700, Fitness: 11729.321186098383, Distance: 11729.321186098383, Blinding constrains: 0\n",
      "Loop: 6800, Fitness: 11706.684229361905, Distance: 11706.684229361905, Blinding constrains: 0\n",
      "Loop: 6900, Fitness: 11706.684229361905, Distance: 11706.684229361905, Blinding constrains: 0\n",
      "Loop: 7000, Fitness: 11706.684229361905, Distance: 11706.684229361905, Blinding constrains: 0\n",
      "Loop: 7100, Fitness: 11706.684229361905, Distance: 11706.684229361905, Blinding constrains: 0\n",
      "Loop: 7200, Fitness: 11706.684229361905, Distance: 11706.684229361905, Blinding constrains: 0\n",
      "Loop: 7300, Fitness: 11706.684229361905, Distance: 11706.684229361905, Blinding constrains: 0\n",
      "Loop: 7400, Fitness: 11600.633661142296, Distance: 11600.633661142296, Blinding constrains: 0\n",
      "Loop: 7500, Fitness: 11600.633661142296, Distance: 11600.633661142296, Blinding constrains: 0\n",
      "Loop: 7600, Fitness: 11600.633661142296, Distance: 11600.633661142296, Blinding constrains: 0\n",
      "Loop: 7700, Fitness: 11600.633661142296, Distance: 11600.633661142296, Blinding constrains: 0\n",
      "Loop: 7800, Fitness: 11580.92184568974, Distance: 11580.92184568974, Blinding constrains: 0\n",
      "Loop: 7900, Fitness: 11517.632553980802, Distance: 11517.632553980802, Blinding constrains: 0\n",
      "Loop: 8000, Fitness: 11454.165687266857, Distance: 11454.165687266857, Blinding constrains: 0\n",
      "Loop: 8100, Fitness: 11454.165687266857, Distance: 11454.165687266857, Blinding constrains: 0\n",
      "Loop: 8200, Fitness: 11454.165687266857, Distance: 11454.165687266857, Blinding constrains: 0\n",
      "Loop: 8300, Fitness: 11376.699575290033, Distance: 11376.699575290033, Blinding constrains: 0\n",
      "Loop: 8400, Fitness: 11376.699575290033, Distance: 11376.699575290033, Blinding constrains: 0\n",
      "Loop: 8500, Fitness: 11376.699575290033, Distance: 11376.699575290033, Blinding constrains: 0\n",
      "Loop: 8600, Fitness: 11376.699575290033, Distance: 11376.699575290033, Blinding constrains: 0\n",
      "Loop: 8700, Fitness: 11376.699575290033, Distance: 11376.699575290033, Blinding constrains: 0\n",
      "Loop: 8800, Fitness: 11376.699575290033, Distance: 11376.699575290033, Blinding constrains: 0\n",
      "Loop: 8900, Fitness: 11376.699575290033, Distance: 11376.699575290033, Blinding constrains: 0\n",
      "Loop: 9000, Fitness: 11376.699575290033, Distance: 11376.699575290033, Blinding constrains: 0\n",
      "Loop: 9100, Fitness: 11376.699575290033, Distance: 11376.699575290033, Blinding constrains: 0\n",
      "Loop: 9200, Fitness: 11376.699575290033, Distance: 11376.699575290033, Blinding constrains: 0\n",
      "Loop: 9300, Fitness: 11122.244058220738, Distance: 11122.244058220738, Blinding constrains: 0\n",
      "Loop: 9400, Fitness: 11122.244058220738, Distance: 11122.244058220738, Blinding constrains: 0\n",
      "Loop: 9500, Fitness: 11122.244058220738, Distance: 11122.244058220738, Blinding constrains: 0\n",
      "Loop: 9600, Fitness: 11122.244058220738, Distance: 11122.244058220738, Blinding constrains: 0\n",
      "Loop: 9700, Fitness: 11122.244058220738, Distance: 11122.244058220738, Blinding constrains: 0\n",
      "Loop: 9800, Fitness: 11122.244058220738, Distance: 11122.244058220738, Blinding constrains: 0\n",
      "Loop: 9900, Fitness: 11122.244058220738, Distance: 11122.244058220738, Blinding constrains: 0\n"
     ]
    }
   ],
   "source": [
    "population = initPopulation(cities, size=100) # Khởi tạo quần thể đầu tiên\n",
    "pop, fit = GA(population=population, crossover_func=singlePointCrossover, lenCities=len(cities))"
   ]
  },
  {
   "cell_type": "code",
   "execution_count": 12,
   "id": "4a95f3d7",
   "metadata": {
    "execution": {
     "iopub.execute_input": "2023-05-11T05:50:12.099411Z",
     "iopub.status.busy": "2023-05-11T05:50:12.099008Z",
     "iopub.status.idle": "2023-05-11T05:50:12.832390Z",
     "shell.execute_reply": "2023-05-11T05:50:12.831448Z"
    },
    "papermill": {
     "duration": 0.746775,
     "end_time": "2023-05-11T05:50:12.834501",
     "exception": false,
     "start_time": "2023-05-11T05:50:12.087726",
     "status": "completed"
    },
    "tags": []
   },
   "outputs": [
    {
     "data": {
      "image/png": "[encoded data removed]",
      "text/plain": [
       "<Figure size 640x480 with 1 Axes>"
      ]
     },
     "metadata": {},
     "output_type": "display_data"
    }
   ],
   "source": [
    "drawMap(cities, pop[0][1])"
   ]
  },
  {
   "cell_type": "code",
   "execution_count": 13,
   "id": "e29d004b",
   "metadata": {
    "execution": {
     "iopub.execute_input": "2023-05-11T05:50:12.860147Z",
     "iopub.status.busy": "2023-05-11T05:50:12.859522Z",
     "iopub.status.idle": "2023-05-11T05:50:13.073850Z",
     "shell.execute_reply": "2023-05-11T05:50:13.072569Z"
    },
    "papermill": {
     "duration": 0.230505,
     "end_time": "2023-05-11T05:50:13.076694",
     "exception": false,
     "start_time": "2023-05-11T05:50:12.846189",
     "status": "completed"
    },
    "tags": []
   },
   "outputs": [
    {
     "data": {
      "text/plain": [
       "[<matplotlib.lines.Line2D at 0x7c6737703700>]"
      ]
     },
     "execution_count": 13,
     "metadata": {},
     "output_type": "execute_result"
    },
    {
     "data": {
      "image/png": "[encoded data removed]",
      "text/plain": [
       "<Figure size 640x480 with 1 Axes>"
      ]
     },
     "metadata": {},
     "output_type": "display_data"
    }
   ],
   "source": [
    "data=fit[700:]\n",
    "x=[i for i in range(len(data))]\n",
    "plt.plot(x, data, label=\"One Point\")"
   ]
  },
  {
   "cell_type": "code",
   "execution_count": 14,
   "id": "3320f77e",
   "metadata": {
    "execution": {
     "iopub.execute_input": "2023-05-11T05:50:13.102823Z",
     "iopub.status.busy": "2023-05-11T05:50:13.102429Z",
     "iopub.status.idle": "2023-05-11T05:50:13.107539Z",
     "shell.execute_reply": "2023-05-11T05:50:13.106505Z"
    },
    "papermill": {
     "duration": 0.020775,
     "end_time": "2023-05-11T05:50:13.109658",
     "exception": false,
     "start_time": "2023-05-11T05:50:13.088883",
     "status": "completed"
    },
    "tags": []
   },
   "outputs": [
    {
     "name": "stdout",
     "output_type": "stream",
     "text": [
      "[49.0, 39.0, 40.0, 37.0, 38.0, 48.0, 24.0, 15.0, 5.0, 6.0, 4.0, 25.0, 46.0, 44.0, 35.0, 36.0, 34.0, 16.0, 51.0, 11.0, 52.0, 14.0, 13.0, 26.0, 47.0, 27.0, 28.0, 12.0, 7.0, 42.0, 2.0, 3.0, 19.0, 8.0, 41.0, 45.0, 18.0, 20.0, 30.0, 29.0, 50.0, 23.0, 32.0, 22.0, 1.0, 31.0, 21.0, 17.0, 9.0, 10.0, 33.0, 43.0]\n"
     ]
    }
   ],
   "source": [
    "print(pop[0][1])"
   ]
  }
 ],
 "metadata": {
  "kernelspec": {
   "display_name": "Python 3",
   "language": "python",
   "name": "python3"
  },
  "language_info": {
   "codemirror_mode": {
    "name": "ipython",
    "version": 3
   },
   "file_extension": ".py",
   "mimetype": "text/x-python",
   "name": "python",
   "nbconvert_exporter": "python",
   "pygments_lexer": "ipython3",
   "version": "3.10.10"
  },
  "papermill": {
   "default_parameters": {},
   "duration": 1266.474001,
   "end_time": "2023-05-11T05:50:13.945723",
   "environment_variables": {},
   "exception": null,
   "input_path": "__notebook__.ipynb",
   "output_path": "__notebook__.ipynb",
   "parameters": {},
   "start_time": "2023-05-11T05:29:07.471722",
   "version": "2.4.0"
  }
 },
 "nbformat": 4,
 "nbformat_minor": 5
}
