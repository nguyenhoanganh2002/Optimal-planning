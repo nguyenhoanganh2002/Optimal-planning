{
  "cells": [
    {
      "cell_type": "markdown",
      "metadata": {
        "id": "view-in-github",
        "colab_type": "text"
      },
      "source": [
        "<a href=\"https://colab.research.google.com/github/nguyenhoanganh2002/Optimal-planning/blob/main/CBUS_ortools.ipynb\" target=\"_parent\"><img src=\"https://colab.research.google.com/assets/colab-badge.svg\" alt=\"Open In Colab\"/></a>"
      ]
    },
    {
      "cell_type": "code",
      "execution_count": null,
      "metadata": {
        "colab": {
          "base_uri": "https://localhost:8080/"
        },
        "id": "ZYFBUoG57uQe",
        "outputId": "0de7bfa9-cf26-482e-836b-e86cdac3dd14"
      },
      "outputs": [
        {
          "output_type": "stream",
          "name": "stdout",
          "text": [
            "Looking in indexes: https://pypi.org/simple, https://us-python.pkg.dev/colab-wheels/public/simple/\n",
            "Requirement already satisfied: ortools in /usr/local/lib/python3.10/dist-packages (9.6.2534)\n",
            "Requirement already satisfied: absl-py>=0.13 in /usr/local/lib/python3.10/dist-packages (from ortools) (1.4.0)\n",
            "Requirement already satisfied: numpy>=1.13.3 in /usr/local/lib/python3.10/dist-packages (from ortools) (1.22.4)\n",
            "Requirement already satisfied: protobuf>=4.21.12 in /usr/local/lib/python3.10/dist-packages (from ortools) (4.23.2)\n",
            "Requirement already satisfied: scipy>=1.10.0 in /usr/local/lib/python3.10/dist-packages (from ortools) (1.10.1)\n"
          ]
        }
      ],
      "source": [
        "pip install ortools\n"
      ]
    },
    {
      "cell_type": "markdown",
      "source": [
        "# **Mixed Interger Programing**"
      ],
      "metadata": {
        "id": "CDKMISPT_FYP"
      }
    },
    {
      "cell_type": "code",
      "execution_count": null,
      "metadata": {
        "id": "RFl-vxbD79iv"
      },
      "outputs": [],
      "source": [
        "from ortools.linear_solver import pywraplp\n",
        "import numpy as np\n",
        "from itertools import combinations"
      ]
    },
    {
      "cell_type": "code",
      "source": [
        "solver = pywraplp.Solver.CreateSolver(\"SCIP\")\n",
        "\n",
        "n, k = 8, 3\n",
        "\n",
        "c = [[0, 7, 5, 6, 1, 7, 6, 2, 9, 5, 10, 10, 10, 1, 8, 5, 4],\n",
        " [7, 0, 9, 4, 10, 7, 7, 7, 7, 5, 10, 1, 3, 8, 6, 9, 1],\n",
        " [5, 9, 0, 9, 3, 8, 1, 7, 10, 10, 2, 4, 8, 3, 10, 5, 5],\n",
        " [6, 4, 9, 0, 10, 2, 7, 1, 10, 8, 7, 2, 4, 1, 2, 5, 6],\n",
        " [1, 10, 3, 10, 0, 5, 8, 8, 8, 4, 8, 6, 8, 3, 2, 4, 2],\n",
        " [7, 7, 8, 2, 5, 0, 7, 8, 1, 1, 6, 1, 3, 9, 1, 6, 7],\n",
        " [6, 7, 1, 7, 8, 7, 0, 4, 4, 8, 3, 5, 6, 8, 9, 4, 5],\n",
        " [2, 7, 7, 1, 8, 8, 4, 0, 1, 3, 6, 10, 6, 3, 8, 5, 6],\n",
        " [9, 7, 10, 10, 8, 1, 4, 1, 0, 6, 8, 9, 1, 3, 3, 6, 6],\n",
        " [5, 5, 10, 8, 4, 1, 8, 3, 6, 0, 7, 6, 2, 5, 7, 5, 10],\n",
        " [10, 10, 2, 7, 8, 6, 3, 6, 8, 7, 0, 8, 1, 10, 6, 5, 6],\n",
        " [10, 1, 4, 2, 6, 1, 5, 10, 9, 6, 8, 0, 5, 4, 4, 4, 7],\n",
        " [10, 3, 8, 4, 8, 3, 6, 6, 1, 2, 1, 5, 0, 8, 1, 5, 6],\n",
        " [1, 8, 3, 1, 3, 9, 8, 3, 3, 5, 10, 4, 8, 0, 2, 9, 10],\n",
        " [8, 6, 10, 2, 2, 1, 9, 8, 3, 7, 6, 4, 1, 2, 0, 2, 5],\n",
        " [5, 9, 5, 5, 4, 6, 4, 5, 6, 5, 5, 4, 5, 9, 2, 0, 3],\n",
        " [4, 1, 5, 6, 2, 7, 5, 6, 6, 10, 6, 7, 6, 10, 5, 3, 0]]\n",
        "\n",
        "###### variables -----------------------------------------------------------\n",
        "x = []\n",
        "for i in range(2*n + 1):\n",
        "    x_i = []\n",
        "    for j in range(2*n + 1):\n",
        "        if i == j:\n",
        "            x_i.append(0)\n",
        "        else:\n",
        "            x_i.append(solver.IntVar(0, 1, f'x[{i}][{j}]'))\n",
        "    x.append(x_i)\n",
        "\n",
        "y = [solver.IntVar(1, 2*n + 1, f'y[{i}]') for i in range(2*n + 1)]\n",
        "\n",
        "p = [solver.IntVar(0, k, f'p[{i}]') for i in range(2*n + 1)]\n",
        "\n",
        "###### constrains ----------------------------------------------------------\n",
        "# one way in, one way out\n",
        "for i in range(2*n + 1):\n",
        "    solver.Add(sum(x[i][j] for j in range(2*n + 1)) == 1)\n",
        "    solver.Add(sum(x[j][i] for j in range(2*n + 1)) == 1)\n",
        "\n",
        "# not subcycles\n",
        "for i in range(2*n + 1):\n",
        "    for j in range(1, 2*n + 1):\n",
        "        if i == j:\n",
        "            continue\n",
        "        solver.Add(y[i] - y[j] + (2*n + 1)*x[i][j] <= 2*n)\n",
        "\n",
        "# start at city 0\n",
        "solver.Add(y[0] == 1)\n",
        "\n",
        "# picks before drops\n",
        "for i in range(n+1, 2*n + 1):\n",
        "    solver.Add(y[i] >= (y[i - n] + 1))\n",
        "\n",
        "# n of passenger at city 0 equals 0\n",
        "solver.Add(p[0] == 0)\n",
        "\n",
        "# maximum k passengers\n",
        "for i in range(2*n + 1):\n",
        "    for j in range(1, 2*n+1):\n",
        "        if i == j:\n",
        "            continue\n",
        "        # picks\n",
        "        if j <= n:\n",
        "            solver.Add(p[j] - p[i] >= 1 - (k + 1)*(1 - x[i][j]))\n",
        "        # drops\n",
        "        if j > n:\n",
        "            solver.Add(p[i] - p[j] >= 1 - (k + 1)*(1 - x[i][j]))\n",
        "\n",
        "# picks = [i for i in range(1, n+1)]\n",
        "# for j in range(1, n - k + 1):\n",
        "#     U_n = k + 1 + 2*j\n",
        "#     U_1 = k + 2\n",
        "#     threshold = U_n*(U_n + 1)/2 - 1 - j*(U_n - 1 + U_1)/2\n",
        "#     combs = list(combinations(picks, k + j))\n",
        "#     for comb in combs:\n",
        "#         solver.Add(sum(y[idx] for idx in comb) >= threshold)\n",
        "\n",
        "\n",
        "\n",
        "###### Objective -------------------------------------------------------\n",
        "solver.Minimize(sum(sum(x[i][j]*c[i][j] for j in range(2*n + 1)) for i in range (2*n + 1)))\n",
        "\n",
        "###### Solve -----------------------------------------------------------\n",
        "stt = solver.Solve()\n",
        "if stt == pywraplp.Solver.OPTIMAL:\n",
        "    print(\"Solved\")\n",
        "    print(f\"Objective value: {solver.Objective().Value()}\")\n",
        "    sol = {}\n",
        "    for i in range(2*n + 1):\n",
        "        sol[y[i].solution_value()] = i\n",
        "\n",
        "    print(f\"Solution: {[sol[i+1] for i in range(2*n + 1)]}\")"
      ],
      "metadata": {
        "id": "FZXlei8jO2Oj",
        "colab": {
          "base_uri": "https://localhost:8080/"
        },
        "outputId": "c2be5b06-0674-48e9-b65f-b4d395b7c5bd"
      },
      "execution_count": null,
      "outputs": [
        {
          "output_type": "stream",
          "name": "stdout",
          "text": [
            "Solved\n",
            "Objective value: 29.0\n",
            "Solution: [0, 4, 2, 6, 10, 12, 8, 7, 3, 11, 1, 16, 15, 14, 5, 9, 13]\n"
          ]
        }
      ]
    },
    {
      "cell_type": "code",
      "source": [
        "\"\"\"\n",
        "Solved\n",
        "Objective value: 29.0\n",
        "Solution: [0, 4, 2, 6, 10, 12, 8, 7, 3, 14, 15, 16, 1, 11, 5, 9, 13]\"\"\""
      ],
      "metadata": {
        "id": "kbA2ZB8k23OO"
      },
      "execution_count": null,
      "outputs": []
    },
    {
      "cell_type": "markdown",
      "source": [
        "# **Constrains Programming**"
      ],
      "metadata": {
        "id": "OJazBnZ3-3NV"
      }
    },
    {
      "cell_type": "code",
      "source": [
        "\"\"\"\n",
        "Solving CBUS problem using constraint programming\n",
        "There are n passengers 1,2,...,𝑛 and 2n points\n",
        "The passenger 𝑖 want to travel from point i to point 𝑖+𝑛(𝑖=1,2,...,𝑛).\n",
        "There is a bus located at point 0 and has 𝑘 places for transporting the passengers (it means at any time, there are at most 𝑘passengers on the bus).\n",
        "You are given the distance matrix c in which 𝑐(𝑖,𝑗) is the traveling distance from point 𝑖to point 𝑗(𝑖,𝑗=0,1,...,2𝑛).\n",
        "Compute the shortest route for the bus, serving n passengers and coming back to point 0.\n",
        "\"\"\"\n",
        "\n",
        "from ortools.sat.python import cp_model\n",
        "from random import randint\n",
        "\n",
        "n = 6\n",
        "K = 3\n",
        "\n",
        "d = [[0 for i in range(0, 2*n+1)] for j in range(0, 2*n+1)]\n",
        "for i in range(0, 2*n+1):\n",
        "  for j in range(i+1, 2*n+1):\n",
        "    d[i][j] = randint(1, 10)\n",
        "    d[j][i] = d[i][j]\n",
        "\n",
        "\n",
        "def main():\n",
        "  model = cp_model.CpModel()\n",
        "  pos_map = [[model.NewBoolVar('pos_map' + str(i) + '-' + str(j)) for j in range(2*n)] for i in range(2*n)]\n",
        "  # each row will only have 1 True\n",
        "  for i in range(2 * n):\n",
        "    model.Add(sum(pos_map[i]) == 1)\n",
        "  # each column will only have 1 True\n",
        "  for j in range(2*n):\n",
        "    model.Add(sum([pos_map[i][j] for i in range(2*n)]) == 1)\n",
        "\n",
        "  # the pick up point of passenger i is before the drop off point of passenger i\n",
        "  for j in range(n):\n",
        "    model.Add(sum([pos_map[i][j] * i for i in range(2*n)]) <= sum([pos_map[i][j+n] * i for i in range(2*n)]))\n",
        "  pass\n",
        "\n",
        "  pick_or_drops = [model.NewIntVar(-1, 1, 'pick_or_drop' + str(i)) for i in range(2*n)]\n",
        "\n",
        "  for i in range(2*n):\n",
        "    b = model.NewBoolVar('b' + str(i))\n",
        "    model.Add(pick_or_drops[i] == 1).OnlyEnforceIf(b)\n",
        "    model.Add(pick_or_drops[i] == -1).OnlyEnforceIf(b.Not())\n",
        "    model.Add(sum([pos_map[i][j] * j for j in range(2*n)]) < n).OnlyEnforceIf(b)\n",
        "    model.Add(sum([pos_map[i][j] * j for j in range(2*n)]) >= n).OnlyEnforceIf(b)\n",
        "  for i in range(2*n):\n",
        "    model.Add(sum(pick_or_drops[:i]) <= K)\n",
        "\n",
        "  coefs = [[[model.NewBoolVar('coef' + str(i) + '-' + str(j) + '-'+str(k)) for j in range(2*n)] for i in range(2*n)] for k in range(2*n)]\n",
        "  for k in range(2*n-1):\n",
        "    for i in range(n):\n",
        "      for j in range(n):\n",
        "        model.Add(pos_map[k][i] == 1).OnlyEnforceIf(coefs[k][i][j])\n",
        "        model.Add(pos_map[k+1][j] == 1).OnlyEnforceIf(coefs[k][i][j])\n",
        "  model.Minimize(\n",
        "    sum([d[i][j] * coefs[k][i][j] for k in range(2*n-1) for i in range(2*n) for j in range(2*n)])\n",
        "    + sum([d[0][i] * pos_map[0][i] for i in range(2*n)])\n",
        "    + sum([d[i][0] * pos_map[2*n-1][i] for i in range(2*n)])\n",
        "  )\n",
        "  solver = cp_model.CpSolver()\n",
        "\n",
        "  status = solver.Solve(model)\n",
        "  if status == cp_model.OPTIMAL:\n",
        "    print(solver.ObjectiveValue())\n",
        "    print(str(n))\n",
        "    for i in range(2*n):\n",
        "      for j in range(2*n):\n",
        "        if solver.Value(pos_map[i][j]):\n",
        "          print(str(j+1) + \" \", end=\"\")\n",
        "    print(\"\")\n",
        "  else:\n",
        "    print('No solution found.')\n",
        "\n",
        "main()\n"
      ],
      "metadata": {
        "colab": {
          "base_uri": "https://localhost:8080/"
        },
        "id": "NLWEj9bTY5ff",
        "outputId": "b05fca64-d3b8-4120-b4d2-7828a5960fad"
      },
      "execution_count": null,
      "outputs": [
        {
          "output_type": "stream",
          "name": "stdout",
          "text": [
            "4.0\n",
            "6\n",
            "1 3 9 2 7 8 5 4 6 12 10 11 \n"
          ]
        }
      ]
    },
    {
      "cell_type": "code",
      "source": [],
      "metadata": {
        "id": "xonMPAHQaGUX"
      },
      "execution_count": null,
      "outputs": []
    },
    {
      "cell_type": "code",
      "source": [],
      "metadata": {
        "id": "NNqE8sBLpzdw"
      },
      "execution_count": null,
      "outputs": []
    },
    {
      "cell_type": "code",
      "source": [],
      "metadata": {
        "id": "DhyMVdA4qOBu"
      },
      "execution_count": null,
      "outputs": []
    },
    {
      "cell_type": "code",
      "source": [],
      "metadata": {
        "id": "4haTMjyxqODg"
      },
      "execution_count": null,
      "outputs": []
    },
    {
      "cell_type": "code",
      "source": [],
      "metadata": {
        "id": "hmyIXfYuqOES"
      },
      "execution_count": null,
      "outputs": []
    },
    {
      "cell_type": "code",
      "source": [],
      "metadata": {
        "id": "Ob-nLOy1qOGl"
      },
      "execution_count": null,
      "outputs": []
    }
  ],
  "metadata": {
    "colab": {
      "provenance": [],
      "include_colab_link": true
    },
    "kernelspec": {
      "display_name": "Python 3",
      "name": "python3"
    },
    "language_info": {
      "name": "python"
    }
  },
  "nbformat": 4,
  "nbformat_minor": 0
}